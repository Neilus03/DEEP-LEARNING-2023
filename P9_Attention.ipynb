{
 "cells": [
  {
   "cell_type": "markdown",
   "metadata": {
    "id": "-JGr-h1xvTOZ"
   },
   "source": [
    "# MNIST Simple Pointer Network\n",
    "\n",
    "In this notebook we will learn how to create a simple [Pointer Network](https://arxiv.org/abs/1506.03134) (Vinyals et al. 2015) for solving a dummy task on the MNIST dataset.\n",
    "\n",
    "A Pointer Network uses the **attention mechanism’s** output to model the conditional probability of each element on its input. This can be extremely useful in tasks that require selecting one (or more) elements of the input sequence/set to be solved.\n",
    "\n",
    "In this notebook we will play with a simple Pointer net to solve the following task: Given an MNIST image with a (query) digit we want our model to find the image that contains the consecutive digit to the query image among a set of input images. For example, imagine we use an image with the digit \"5\" as query and let the input of the model be a set of 10 images with different digits, the output of our model must be a probability distribution over those 10 images indicating the presence or not of the digit \"6\" in each of them."
   ]
  },
  {
   "cell_type": "code",
   "execution_count": 1,
   "metadata": {
    "colab": {
     "base_uri": "https://localhost:8080/"
    },
    "id": "h4Z7-Wm7_5K6",
    "outputId": "9dbf2711-26a0-4bfc-e193-3f4c233d447e"
   },
   "outputs": [
    {
     "name": "stdout",
     "output_type": "stream",
     "text": [
      "PyTorch Version:  2.0.0\n"
     ]
    }
   ],
   "source": [
    "import torch\n",
    "import torchvision\n",
    "import torch.nn as nn\n",
    "import torch.optim as optim\n",
    "import numpy as np\n",
    "from torch.utils.data import Dataset, DataLoader\n",
    "\n",
    "import matplotlib.pyplot as plt\n",
    "from collections import Counter\n",
    "import time\n",
    "import os\n",
    "import copy\n",
    "print(\"PyTorch Version: \",torch.__version__)"
   ]
  },
  {
   "cell_type": "code",
   "execution_count": 2,
   "metadata": {
    "id": "RNJh2q4lQGYF"
   },
   "outputs": [
    {
     "name": "stdout",
     "output_type": "stream",
     "text": [
      "Using device: cuda\n"
     ]
    }
   ],
   "source": [
    "#If this cell fails you need to change the runtime of your colab notebook to GPU\n",
    "# Go to Runtime -> Change Runtime Type and select GPU\n",
    "assert torch.cuda.is_available(), \"GPU is not enabled\"\n",
    "\n",
    "#  use gpu if available\n",
    "device = torch.device(\"cuda\" if torch.cuda.is_available() else \"cpu\")\n",
    "print(\"Using device:\", device)"
   ]
  },
  {
   "cell_type": "markdown",
   "metadata": {
    "id": "CyM0DXter9Mp"
   },
   "source": [
    "### Create the dataset\n",
    "\n",
    "Let's start creating a Dataset class to understand better the task we want to solve. Each sample in out dataset will be formed by:\n",
    "\n",
    "* a query image\n",
    "* a set of 10 images, 9 of them selected randomly (distractors) and one selected as the consecutive digit of the digit in the query image.\n",
    "* the ground truth: a 10-D one hot vector indicating the position of the image we want our model to select (\"point to\")."
   ]
  },
  {
   "cell_type": "code",
   "execution_count": 41,
   "metadata": {
    "id": "XksdVS7GHWw0"
   },
   "outputs": [],
   "source": [
    "class MNISTAttentionDataset(Dataset):\n",
    "    \"\"\"MNIST attention toy dataset.\"\"\"\n",
    "\n",
    "    def __init__(self, num_inputs, train=True):\n",
    "        \"\"\"\n",
    "        Args:\n",
    "            num_inputs (int) - The number of images in the input of our model.\n",
    "            train (bool, optional) – If True, creates dataset from MNIST training\n",
    "                samples, otherwise from test\n",
    "        \"\"\"\n",
    "        \n",
    "        self.num_inputs = num_inputs\n",
    "        self.mnist = torchvision.datasets.MNIST('../data', train=train, download=True)\n",
    "        \n",
    "        # dict with samples for each class label\n",
    "        self.data = {}\n",
    "        for label in range(10):\n",
    "            #Collect in separate lists the different digits, and normalise values to [0, 1]\n",
    "            self.data[label] = self.mnist.data[self.mnist.targets == label] / 255.0\n",
    "\n",
    "        \n",
    "\n",
    "    def __len__(self):\n",
    "        # The length makes little sense here, as we generate samples dynamically\n",
    "        # Here we return the number of images originally in the dataset\n",
    "        return self.mnist.data.shape[0]\n",
    "\n",
    "    def __getitem__(self, idx):\n",
    "        \"\"\"\n",
    "        Args:\n",
    "            idx (int) - an index indicating which digit should be used as query\n",
    "        \"\"\"\n",
    "        c = self.mnist.targets[idx].item()     # Find out which is the class of the digit requested\n",
    "        query = self.mnist.data[idx].flatten() # Get the data for the digit requested\n",
    "\n",
    "        correct_pos = np.random.randint(0, self.num_inputs) # Decide on a random position where the correct answer will be\n",
    "        \n",
    "        inputs = np.zeros((self.num_inputs, 784)) # Create an array to hold the inputs (from which we have to select one)\n",
    "        for j in range(self.num_inputs):\n",
    "            if j == correct_pos: # In the correct position, place a random digit that comes from the c+1 class\n",
    "                idx = np.random.randint(0,self.data[(c+1)%10].shape[0])\n",
    "                inputs[j,:] = self.data[(c+1)%10][idx,:].flatten()\n",
    "            else: # In the rest of the positions, place random digits that come from the rest of the classes\n",
    "                c_distractor = np.random.choice([n for n in [0,1,2,3,4,5,6,7,8,9] if n!=(c+1)%10])\n",
    "                idx = np.random.randint(0,self.data[c_distractor].shape[0])\n",
    "                inputs[j,:] = self.data[c_distractor][idx,:].flatten()\n",
    "            \n",
    "        sample = {'x': inputs, 'query': query, 'y': correct_pos}\n",
    "\n",
    "        return sample"
   ]
  },
  {
   "cell_type": "code",
   "execution_count": 62,
   "metadata": {
    "id": "hL2kwN-kpjUc"
   },
   "outputs": [],
   "source": [
    "num_inputs = 10\n",
    "\n",
    "train_dataset = MNISTAttentionDataset(num_inputs, train=True)\n",
    "test_dataset = MNISTAttentionDataset(num_inputs, train=False)\n",
    "\n",
    "train_loader = DataLoader(train_dataset, batch_size = 64, shuffle = True)\n",
    "test_loader  = DataLoader(test_dataset, batch_size = 1000, shuffle = True)"
   ]
  },
  {
   "cell_type": "markdown",
   "metadata": {
    "id": "RES5R0CMr3bE"
   },
   "source": [
    "### Visualize one training sample"
   ]
  },
  {
   "cell_type": "code",
   "execution_count": 63,
   "metadata": {
    "colab": {
     "base_uri": "https://localhost:8080/",
     "height": 158
    },
    "id": "fJY6zR_lqR41",
    "outputId": "789330a8-92bb-4445-dc72-9c4635342ecc"
   },
   "outputs": [
    {
     "name": "stdout",
     "output_type": "stream",
     "text": [
      "Data: (10, 784), Query: torch.Size([784])\n"
     ]
    },
    {
     "data": {
      "image/png": "[encoded data removed]",
      "text/plain": [
       "<Figure size 3300x300 with 11 Axes>"
      ]
     },
     "metadata": {},
     "output_type": "display_data"
    }
   ],
   "source": [
    "sample = train_dataset[0]\n",
    "\n",
    "print(f\"Data: {sample['x'].shape}, Query: {sample['query'].shape}\")\n",
    "\n",
    "fig = plt.figure(figsize=(33, 3))\n",
    "plt.tight_layout()\n",
    "\n",
    "ax = plt.subplot(1, num_inputs + 1, 1)\n",
    "image = sample['query'].reshape(28,28)\n",
    "plt.imshow(image, cmap='gray')\n",
    "plt.plot([0,27,27,0,0], [0,0,27,27,0], c='b') # Draw a blue box around the query sample\n",
    "ax.set_title('Query')\n",
    "ax.axis('off')\n",
    "\n",
    "for i in range(num_inputs):\n",
    "    ax = plt.subplot(1, num_inputs + 1, i+2)\n",
    "    ax.set_title('Sample #{}'.format(i))\n",
    "    ax.axis('off')\n",
    "    image = sample['x'][i].reshape(28,28)\n",
    "    plt.imshow(image, cmap='gray')\n",
    "    if i == sample['y']:\n",
    "        plt.plot([0,27,27,0,0], [0,0,27,27,0], c='g') # Draw a green box around the correct sample\n",
    "        ax.set_title('Target')\n",
    "    else:\n",
    "        plt.plot([0,27,27,0,0], [0,0,27,27,0], c='r') # Draw a blue box around the wrong sample\n",
    "        ax.set_title('Distractor #{}'.format(i))\n",
    "    ax.axis('off')\n",
    "\n",
    "plt.show()"
   ]
  },
  {
   "cell_type": "markdown",
   "metadata": {
    "id": "DVaMM-n2sFF6"
   },
   "source": [
    "### Create the model"
   ]
  },
  {
   "cell_type": "code",
   "execution_count": 64,
   "metadata": {
    "id": "BesD8B1BAW9u"
   },
   "outputs": [],
   "source": [
    "class AttentionModel(nn.Module):\n",
    "    def __init__(self, input_dim, num_inputs, hidden_dim):\n",
    "        super(AttentionModel, self).__init__()\n",
    "        self.hidden_dim = hidden_dim\n",
    "        self.num_inputs = num_inputs\n",
    "        self.input_dim  = input_dim\n",
    "\n",
    "        # Weights (Fully Connected layers) \n",
    "        self.fc_q = nn.Linear(input_dim, hidden_dim) # Query FC\n",
    "        self.fc_k = nn.Linear(input_dim, hidden_dim) # Keys FC. Here the input acts as the keys, and there is no value\n",
    "        self.fc_v = nn.Linear(hidden_dim, 1) # Values FC\n",
    "\n",
    "    def scoringAdditive(self, query, keys):\n",
    "        # Query is                                              (B X 1 X input_dim)\n",
    "        # Repeat (tile) the query so that it has the same size as the keys (input)\n",
    "        query = query.repeat(1, self.num_inputs, 1)           # (B X num_inputs X input_dim)\n",
    "        query = torch.tanh(self.fc_q(query))                  # (B X num_inputs X hidden_dim)\n",
    "\n",
    "        # Keys is                                               (B X num_inputs X input_dim)\n",
    "        keys = torch.tanh(self.fc_k(keys))                    # (B X num_inputs X hidden_dim)\n",
    "        \n",
    "        # Attention Score\n",
    "        score = torch.tanh(query + keys )                     # (B X num_inputs X hidden_dim)\n",
    "        score = self.fc_v(score)                              # (B X num_inputs X 1)        \n",
    "        return score\n",
    "\n",
    "    def forward(self, x, query):\n",
    "        query = query.unsqueeze(1) # (B x input_dim) -> (B x 1 x input_dim)\n",
    "        \n",
    "        # Calculate attention scores\n",
    "        output = self.scoringAdditive(query, x)\n",
    "        output = output.squeeze()       # (B x 1 x num_inputs) -> (B x num_inputs)\n",
    "        return output"
   ]
  },
  {
   "cell_type": "markdown",
   "metadata": {
    "id": "y_yCyvgg9Pbj"
   },
   "source": [
    "<font color=\"blue\">\n",
    "\n",
    "**QUESTION**: The Additive score gives logits that we should pass through a softmax to get the final attention weights. Why is there no softmax in the model above?</font>"
   ]
  },
  {
   "cell_type": "markdown",
   "metadata": {},
   "source": [
    "---\n",
    "    \n",
    "**ANSWER**: \n",
    "\n",
    "---"
   ]
  },
  {
   "cell_type": "code",
   "execution_count": 65,
   "metadata": {
    "colab": {
     "base_uri": "https://localhost:8080/"
    },
    "id": "nsyUZE0lHJ5-",
    "outputId": "218369fc-efcb-4a62-9e29-5af570371c53"
   },
   "outputs": [
    {
     "name": "stdout",
     "output_type": "stream",
     "text": [
      "AttentionModel(\n",
      "  (fc_q): Linear(in_features=784, out_features=256, bias=True)\n",
      "  (fc_k): Linear(in_features=784, out_features=256, bias=True)\n",
      "  (fc_v): Linear(in_features=256, out_features=1, bias=True)\n",
      ")\n"
     ]
    }
   ],
   "source": [
    "input_dim, num_inputs, hidden_dim = (784, 10, 256)\n",
    "\n",
    "model = AttentionModel(input_dim, num_inputs, hidden_dim)\n",
    "print(model)"
   ]
  },
  {
   "cell_type": "markdown",
   "metadata": {
    "id": "xmp0kuk2z3Rx"
   },
   "source": [
    "### Define the training method and train"
   ]
  },
  {
   "cell_type": "code",
   "execution_count": 66,
   "metadata": {
    "id": "6ZvGWqwDrc-V"
   },
   "outputs": [],
   "source": [
    "def train(model, device, train_loader, criterion, optimizer, epoch, log_interval = 100):\n",
    "    # Method to perform one epoch of training\n",
    "    model.train()\n",
    "    loss_values = []\n",
    "    \n",
    "    for batch_idx, sample_batched in enumerate(train_loader):\n",
    "        data = sample_batched['x'].float()\n",
    "        query = sample_batched['query'].float()\n",
    "        target = sample_batched['y']\n",
    "        #print(data.shape, query.shape)\n",
    "        data, query, target = data.to(device), query.to(device), target.to(device)\n",
    "        \n",
    "        optimizer.zero_grad()\n",
    "        output = model(data, query)\n",
    "        loss = criterion(output, target)\n",
    "        loss.backward()\n",
    "        optimizer.step()\n",
    "        \n",
    "        loss_values.append(loss.detach().cpu().item())        \n",
    "        if batch_idx % log_interval == 0:\n",
    "            print('Train Epoch: {} [{}/{} ({:.0f}%)]\\tLoss: {:.6f}'.format(\n",
    "                epoch, batch_idx * len(data), len(train_loader.dataset),\n",
    "                100. * batch_idx / len(train_loader), loss.item()))\n",
    "        \n",
    "    return loss_values"
   ]
  },
  {
   "cell_type": "code",
   "execution_count": 67,
   "metadata": {
    "colab": {
     "base_uri": "https://localhost:8080/"
    },
    "id": "L_ZTvDKRz9yx",
    "outputId": "a9aa7589-4464-4328-8ccf-c3deb862feaf"
   },
   "outputs": [
    {
     "name": "stdout",
     "output_type": "stream",
     "text": [
      "Train Epoch: 1 [0/60000 (0%)]\tLoss: 2.309527\n",
      "Train Epoch: 1 [6400/60000 (11%)]\tLoss: 2.193601\n",
      "Train Epoch: 1 [12800/60000 (21%)]\tLoss: 1.978138\n",
      "Train Epoch: 1 [19200/60000 (32%)]\tLoss: 1.836124\n",
      "Train Epoch: 1 [25600/60000 (43%)]\tLoss: 1.953323\n",
      "Train Epoch: 1 [32000/60000 (53%)]\tLoss: 1.705907\n",
      "Train Epoch: 1 [38400/60000 (64%)]\tLoss: 1.488431\n",
      "Train Epoch: 1 [44800/60000 (75%)]\tLoss: 1.388192\n",
      "Train Epoch: 1 [51200/60000 (85%)]\tLoss: 1.291603\n",
      "Train Epoch: 1 [57600/60000 (96%)]\tLoss: 1.359451\n",
      "Train Epoch: 2 [0/60000 (0%)]\tLoss: 1.201183\n",
      "Train Epoch: 2 [6400/60000 (11%)]\tLoss: 1.366199\n",
      "Train Epoch: 2 [12800/60000 (21%)]\tLoss: 1.291776\n",
      "Train Epoch: 2 [19200/60000 (32%)]\tLoss: 1.405738\n",
      "Train Epoch: 2 [25600/60000 (43%)]\tLoss: 1.455274\n",
      "Train Epoch: 2 [32000/60000 (53%)]\tLoss: 1.395749\n",
      "Train Epoch: 2 [38400/60000 (64%)]\tLoss: 1.258179\n",
      "Train Epoch: 2 [44800/60000 (75%)]\tLoss: 1.416720\n",
      "Train Epoch: 2 [51200/60000 (85%)]\tLoss: 1.097489\n",
      "Train Epoch: 2 [57600/60000 (96%)]\tLoss: 1.268658\n",
      "Train Epoch: 3 [0/60000 (0%)]\tLoss: 1.021331\n",
      "Train Epoch: 3 [6400/60000 (11%)]\tLoss: 1.123806\n",
      "Train Epoch: 3 [12800/60000 (21%)]\tLoss: 0.962763\n",
      "Train Epoch: 3 [19200/60000 (32%)]\tLoss: 1.118448\n",
      "Train Epoch: 3 [25600/60000 (43%)]\tLoss: 1.003903\n",
      "Train Epoch: 3 [32000/60000 (53%)]\tLoss: 0.919876\n",
      "Train Epoch: 3 [38400/60000 (64%)]\tLoss: 0.958519\n",
      "Train Epoch: 3 [44800/60000 (75%)]\tLoss: 1.372104\n",
      "Train Epoch: 3 [51200/60000 (85%)]\tLoss: 0.989831\n",
      "Train Epoch: 3 [57600/60000 (96%)]\tLoss: 1.123232\n",
      "Train Epoch: 4 [0/60000 (0%)]\tLoss: 1.158128\n",
      "Train Epoch: 4 [6400/60000 (11%)]\tLoss: 1.093465\n",
      "Train Epoch: 4 [12800/60000 (21%)]\tLoss: 1.247981\n",
      "Train Epoch: 4 [19200/60000 (32%)]\tLoss: 1.059230\n",
      "Train Epoch: 4 [25600/60000 (43%)]\tLoss: 1.195576\n",
      "Train Epoch: 4 [32000/60000 (53%)]\tLoss: 1.053677\n",
      "Train Epoch: 4 [38400/60000 (64%)]\tLoss: 0.928507\n",
      "Train Epoch: 4 [44800/60000 (75%)]\tLoss: 0.870318\n",
      "Train Epoch: 4 [51200/60000 (85%)]\tLoss: 1.124125\n",
      "Train Epoch: 4 [57600/60000 (96%)]\tLoss: 1.029303\n",
      "Train Epoch: 5 [0/60000 (0%)]\tLoss: 0.822446\n",
      "Train Epoch: 5 [6400/60000 (11%)]\tLoss: 1.025710\n",
      "Train Epoch: 5 [12800/60000 (21%)]\tLoss: 1.037342\n",
      "Train Epoch: 5 [19200/60000 (32%)]\tLoss: 0.861420\n",
      "Train Epoch: 5 [25600/60000 (43%)]\tLoss: 0.917636\n",
      "Train Epoch: 5 [32000/60000 (53%)]\tLoss: 0.832315\n",
      "Train Epoch: 5 [38400/60000 (64%)]\tLoss: 1.024329\n",
      "Train Epoch: 5 [44800/60000 (75%)]\tLoss: 1.171083\n",
      "Train Epoch: 5 [51200/60000 (85%)]\tLoss: 0.731201\n",
      "Train Epoch: 5 [57600/60000 (96%)]\tLoss: 1.123965\n",
      "Train Epoch: 6 [0/60000 (0%)]\tLoss: 0.825153\n",
      "Train Epoch: 6 [6400/60000 (11%)]\tLoss: 0.970355\n",
      "Train Epoch: 6 [12800/60000 (21%)]\tLoss: 0.697231\n",
      "Train Epoch: 6 [19200/60000 (32%)]\tLoss: 1.170198\n",
      "Train Epoch: 6 [25600/60000 (43%)]\tLoss: 1.096766\n",
      "Train Epoch: 6 [32000/60000 (53%)]\tLoss: 0.820277\n",
      "Train Epoch: 6 [38400/60000 (64%)]\tLoss: 0.858772\n",
      "Train Epoch: 6 [44800/60000 (75%)]\tLoss: 1.032965\n",
      "Train Epoch: 6 [51200/60000 (85%)]\tLoss: 0.652777\n",
      "Train Epoch: 6 [57600/60000 (96%)]\tLoss: 1.126246\n",
      "Train Epoch: 7 [0/60000 (0%)]\tLoss: 0.656600\n",
      "Train Epoch: 7 [6400/60000 (11%)]\tLoss: 0.791182\n",
      "Train Epoch: 7 [12800/60000 (21%)]\tLoss: 0.703902\n",
      "Train Epoch: 7 [19200/60000 (32%)]\tLoss: 0.931296\n",
      "Train Epoch: 7 [25600/60000 (43%)]\tLoss: 0.936392\n",
      "Train Epoch: 7 [32000/60000 (53%)]\tLoss: 0.963683\n",
      "Train Epoch: 7 [38400/60000 (64%)]\tLoss: 0.936700\n",
      "Train Epoch: 7 [44800/60000 (75%)]\tLoss: 0.842648\n",
      "Train Epoch: 7 [51200/60000 (85%)]\tLoss: 0.825155\n",
      "Train Epoch: 7 [57600/60000 (96%)]\tLoss: 0.991145\n",
      "Train Epoch: 8 [0/60000 (0%)]\tLoss: 0.716583\n",
      "Train Epoch: 8 [6400/60000 (11%)]\tLoss: 0.812270\n",
      "Train Epoch: 8 [12800/60000 (21%)]\tLoss: 0.791668\n",
      "Train Epoch: 8 [19200/60000 (32%)]\tLoss: 0.668417\n",
      "Train Epoch: 8 [25600/60000 (43%)]\tLoss: 0.924326\n",
      "Train Epoch: 8 [32000/60000 (53%)]\tLoss: 0.988577\n",
      "Train Epoch: 8 [38400/60000 (64%)]\tLoss: 0.678488\n",
      "Train Epoch: 8 [44800/60000 (75%)]\tLoss: 0.818492\n",
      "Train Epoch: 8 [51200/60000 (85%)]\tLoss: 0.954468\n",
      "Train Epoch: 8 [57600/60000 (96%)]\tLoss: 0.776882\n",
      "Train Epoch: 9 [0/60000 (0%)]\tLoss: 0.686212\n",
      "Train Epoch: 9 [6400/60000 (11%)]\tLoss: 0.738696\n",
      "Train Epoch: 9 [12800/60000 (21%)]\tLoss: 1.045429\n",
      "Train Epoch: 9 [19200/60000 (32%)]\tLoss: 0.850754\n",
      "Train Epoch: 9 [25600/60000 (43%)]\tLoss: 0.889652\n",
      "Train Epoch: 9 [32000/60000 (53%)]\tLoss: 0.961980\n",
      "Train Epoch: 9 [38400/60000 (64%)]\tLoss: 0.944019\n",
      "Train Epoch: 9 [44800/60000 (75%)]\tLoss: 0.898964\n",
      "Train Epoch: 9 [51200/60000 (85%)]\tLoss: 0.728300\n",
      "Train Epoch: 9 [57600/60000 (96%)]\tLoss: 0.740653\n",
      "Train Epoch: 10 [0/60000 (0%)]\tLoss: 0.734434\n",
      "Train Epoch: 10 [6400/60000 (11%)]\tLoss: 0.754564\n",
      "Train Epoch: 10 [12800/60000 (21%)]\tLoss: 0.661738\n",
      "Train Epoch: 10 [19200/60000 (32%)]\tLoss: 0.690329\n",
      "Train Epoch: 10 [25600/60000 (43%)]\tLoss: 0.780289\n",
      "Train Epoch: 10 [32000/60000 (53%)]\tLoss: 0.802888\n",
      "Train Epoch: 10 [38400/60000 (64%)]\tLoss: 0.817481\n",
      "Train Epoch: 10 [44800/60000 (75%)]\tLoss: 0.870320\n",
      "Train Epoch: 10 [51200/60000 (85%)]\tLoss: 0.767984\n",
      "Train Epoch: 10 [57600/60000 (96%)]\tLoss: 0.610272\n"
     ]
    }
   ],
   "source": [
    "model = model.to(device)\n",
    "\n",
    "optimizer = optim.Adam(model.parameters())\n",
    "\n",
    "criterion = nn.CrossEntropyLoss()\n",
    "\n",
    "epochs = 10\n",
    "\n",
    "loss_history = []\n",
    "for epoch in range(1, epochs + 1):\n",
    "    loss_values = train(model, device, train_loader, criterion, optimizer, epoch)\n",
    "    loss_history += loss_values"
   ]
  },
  {
   "cell_type": "code",
   "execution_count": 68,
   "metadata": {
    "colab": {
     "base_uri": "https://localhost:8080/",
     "height": 283
    },
    "id": "V1VFBe_Y0Cxx",
    "outputId": "e5fbd475-41a9-4e8a-b361-c3da0e2c0802"
   },
   "outputs": [
    {
     "data": {
      "text/plain": [
       "[<matplotlib.lines.Line2D at 0x16188c7d1f0>]"
      ]
     },
     "execution_count": 68,
     "metadata": {},
     "output_type": "execute_result"
    },
    {
     "data": {
      "image/png": "[encoded data removed]",
      "text/plain": [
       "<Figure size 640x480 with 1 Axes>"
      ]
     },
     "metadata": {},
     "output_type": "display_data"
    }
   ],
   "source": [
    "plt.plot(loss_history)"
   ]
  },
  {
   "cell_type": "markdown",
   "metadata": {
    "id": "jONlgxyaEwC6"
   },
   "source": [
    "### Evaluate the trained model"
   ]
  },
  {
   "cell_type": "code",
   "execution_count": 69,
   "metadata": {
    "id": "izgtCdk5DV01"
   },
   "outputs": [],
   "source": [
    "def evaluate(model, device, test_loader):\n",
    "    model.eval()\n",
    "    total = 0.\n",
    "    ok = 0.\n",
    "    for batch_idx, sample_batched in enumerate(test_loader):\n",
    "        data = sample_batched['x'].float()\n",
    "        query = sample_batched['query'].float()\n",
    "        target = sample_batched['y'].numpy()\n",
    "        data, query = data.to(device), query.to(device)\n",
    "        \n",
    "        output = model(data, query)\n",
    "        pred = np.argmax(output.detach().cpu().numpy(), axis=1)\n",
    "       \n",
    "        ok += np.sum(pred == target)\n",
    "        total += len(test_loader)\n",
    "                \n",
    "    print('Accuracy = ', ok/total)"
   ]
  },
  {
   "cell_type": "code",
   "execution_count": 70,
   "metadata": {
    "colab": {
     "base_uri": "https://localhost:8080/"
    },
    "id": "JYQGuAXpGNU7",
    "outputId": "e59b247d-bbff-4c84-d482-c8d48c8aea10"
   },
   "outputs": [
    {
     "name": "stdout",
     "output_type": "stream",
     "text": [
      "Accuracy =  76.74\n"
     ]
    }
   ],
   "source": [
    "evaluate(model, device, test_loader)"
   ]
  },
  {
   "cell_type": "markdown",
   "metadata": {
    "id": "CaOoDxjhhjxz"
   },
   "source": [
    "<font color=\"blue\">\n",
    "\n",
    "**EXERCISE 1**: Starting from the previous model as a template, implement the Dot-product Attention scoring function and substitute the additive one we were using before. Retrain and evalute the model.</font>\n",
    "\n",
    "<font color=\"blue\">\n",
    "\n",
    "> Hint: To transpose a tensor along specific dimensions you can use `torch.permute()`\n",
    "</font>\n",
    "\n",
    "\n",
    "<font color=\"blue\">\n",
    "\n",
    "> Hint: To perform a batch matrix-matrix product, use the function `torch.bmm()` https://pytorch.org/docs/stable/generated/torch.bmm.html \n",
    "</font>"
   ]
  },
  {
   "cell_type": "code",
   "execution_count": 71,
   "metadata": {},
   "outputs": [],
   "source": [
    "# YOUR CODE HERE\n"
   ]
  }
 ],
 "metadata": {
  "accelerator": "GPU",
  "colab": {
   "collapsed_sections": [],
   "name": "Copy of MNIST_PointerNet.ipynb",
   "provenance": [],
   "toc_visible": true
  },
  "kernelspec": {
   "display_name": "pytorch",
   "language": "python",
   "name": "pytorch"
  },
  "language_info": {
   "codemirror_mode": {
    "name": "ipython",
    "version": 3
   },
   "file_extension": ".py",
   "mimetype": "text/x-python",
   "name": "python",
   "nbconvert_exporter": "python",
   "pygments_lexer": "ipython3",
   "version": "3.9.16"
  }
 },
 "nbformat": 4,
 "nbformat_minor": 4
}
