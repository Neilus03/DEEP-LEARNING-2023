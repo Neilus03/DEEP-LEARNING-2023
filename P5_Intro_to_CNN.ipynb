{
  "cells": [
    {
      "cell_type": "markdown",
      "metadata": {
        "id": "view-in-github",
        "colab_type": "text"
      },
      "source": [
        "<a href=\"https://colab.research.google.com/github/Neilus03/DEEP-LEARNING-2023/blob/main/P5_Intro_to_CNN.ipynb\" target=\"_parent\"><img src=\"https://colab.research.google.com/assets/colab-badge.svg\" alt=\"Open In Colab\"/></a>"
      ]
    },
    {
      "cell_type": "markdown",
      "metadata": {
        "id": "RqPpsiFzKdIE"
      },
      "source": [
        "# Introduction to Convolutional Neural Networks"
      ]
    },
    {
      "cell_type": "markdown",
      "metadata": {
        "id": "g8ZmfIGIKdIG"
      },
      "source": [
        "In this notebook we will see how to define and use a Convolutional Neural Network (CNN) for clasifying images.\n",
        "\n",
        "Contrary to the MLPs we have used up to know, where each unit connects to all the units of the previous layer, a unit in a convoutional layer only \"sees\" a small region of the layer before, and applies a filter - a local operation - on this small region. The key idea is to apply this same filter to the whole image in a grid fashion, which results into a map of activations for this filter. Using many filters, results into a set of activation maps that when stacked together will form the output of the convolutional layer (each activation map corresponding to a \"channel\").\n",
        "\n",
        "Typically, convolutions are followed by pooling layers that reduce the dimensionality of our intermedate result, and give us every time a little bit more of viewpoint invariance (at the cost of losing precise information about the location of things).\n",
        "\n",
        "When dealing with images, our inputs, and all intermediate tensors we produce through convolution layers will be 3-dimensional tensors. And if we vectorise our operations and pass a whole batch of images in a single go, we will be dealing with 4-dimensional tensors. The ordering of the dimensions in pytorch is $(BatchSize \\times nChannels \\times Height \\times Width)$.\n",
        "\n",
        "After a series of convolutions and pooling operations, we typically want to flaten the images. The flattening operation collapses an array into a 1-dimensional vector. For example, if we have a tensor of $20 \\times 5 \\times 5$ $(C \\times H \\times W)$, its flattened version is a 1d vector of $500$ values. Now we can feed these $500$ values into a MLP for classifiying the image."
      ]
    },
    {
      "cell_type": "code",
      "execution_count": 1,
      "metadata": {
        "id": "YIr2ty0tFA4C"
      },
      "outputs": [],
      "source": [
        "import torch #should be installed by default in any colab notebook\n",
        "import numpy as np\n",
        "import matplotlib.pyplot as plt\n",
        "from IPython import display\n",
        "import torch.nn as nn\n",
        "import torch.nn.functional as F\n",
        "import torch.optim as optim\n",
        "from torchvision import datasets, transforms\n",
        "import matplotlib.pyplot as plt\n",
        "\n",
        "# function to count number of parameters\n",
        "def get_n_params(model):\n",
        "    np=0\n",
        "    for p in list(model.parameters()):\n",
        "        np += p.numel()\n",
        "    return np"
      ]
    },
    {
      "cell_type": "code",
      "execution_count": 2,
      "metadata": {
        "id": "gWLIxo9Oigfo"
      },
      "outputs": [],
      "source": [
        "# If this cell fails you need to change the runtime of your colab notebook to GPU\n",
        "# Go to Runtime -> Change Runtime Type and select GPU\n",
        "assert torch.cuda.is_available(), \"GPU is not enabled\"\n",
        "\n",
        "# use gpu if available\n",
        "device = torch.device(\"cuda:0\" if torch.cuda.is_available() else \"cpu\")"
      ]
    },
    {
      "cell_type": "markdown",
      "metadata": {
        "id": "eI_YXyigdTUC"
      },
      "source": [
        "# Data\n",
        "\n",
        "Before training we need data! For this notebook we will use the FashionMNIST dataset. Which is available in [torchvision](https://pytorch.org/vision/stable/index.html)\n"
      ]
    },
    {
      "cell_type": "code",
      "execution_count": 3,
      "metadata": {
        "id": "m7kr-LrSZK7h",
        "tags": [],
        "colab": {
          "base_uri": "https://localhost:8080/",
          "height": 437,
          "referenced_widgets": [
            "9976b1b725b64c1db22e665762ca33b1",
            "5eacddec4a074f4dbb8a92dfc4bffd2b",
            "e4d7c1bf648143d9825f2d12193a7cca",
            "fb6052ebd63f40719fc71d75e901cc66",
            "550e00e690764e78a1de7e8ffe7634c0",
            "e784e841315a40e49cda8779459cd683",
            "dedf9b5e65c840139de52cdb315cc9e2",
            "0f8ff617109841c492800a71901f167d",
            "acb64cb4faa349209ecb9abc23970626",
            "38ba8c0432354af28a2221a8a8cc825a",
            "7731e8a339d84f168db8ae7c92826710",
            "a3390f584a574bb9b95339e0bbebe199",
            "1578188642894007865b7d7ce5b1fdc0",
            "5cdd3379e4e14ed7bdc0377c2b181092",
            "6f60c1054cdb4c608ae15197c66ebdf3",
            "29b51e5c33b84dd19ea44099af3fa60b",
            "5dc1f53f936e463daa12f0a35cada45b",
            "8dd93137d87b4cfaab2263bbbd63e861",
            "45baa4a09a4e40748d70c8a36097f119",
            "636d4f148889436ea4042cce6008022e",
            "acd4b8bcb22c447fbf8a3acb4abe15d8",
            "5267f02f246c470291c6cc05a310660d",
            "2043f97394cd4ccab8e2870b4afaf737",
            "9b699108227c4cacb598ae90dc0f02dc",
            "0d7913039c874a559171bd36f95cb602",
            "0ba277402a6b49289a7189a368698793",
            "947b4d50f97d407ba8a1bf9cca2abf71",
            "6c467f0174d54f9e927d599eb8bbf828",
            "c20b09a84ed04bb6b5f40c76c25a9837",
            "a7dad00fca2f4ec8b08a2b7f987ffb24",
            "ba9aa7c791784e579b853fc9d1766a26",
            "c1595845c591424881109faf24ee2c05",
            "64f0a70f214a46718e82813478d53b02",
            "f268f816e93a46728aa5b897c8dfecd2",
            "b0144e105c0e4ce886c32dfb1e78683c",
            "eff9b1487f1543efaddcbdd84484a0a0",
            "d81de1a60ec54c0eb3af7957d7c1ed16",
            "b9bc441b96b84d6f83f2a76f82f23a6b",
            "db9ad2481fdf4c4380c051ed93f0d678",
            "4c015ab1b3374765b2df76969b149c03",
            "1604ecddb4cc4916aab0bb973ac18d5a",
            "e22d1662ca4d4d2b9d75f8cdafa0f01a",
            "a18e75a8c1634731a99889e1ba420e59",
            "777706b188d7428cb9db60b1cda0df5b"
          ]
        },
        "outputId": "ec9472cd-5080-496f-b013-40b9cf221bc6"
      },
      "outputs": [
        {
          "output_type": "stream",
          "name": "stdout",
          "text": [
            "Downloading http://fashion-mnist.s3-website.eu-central-1.amazonaws.com/train-images-idx3-ubyte.gz\n",
            "Downloading http://fashion-mnist.s3-website.eu-central-1.amazonaws.com/train-images-idx3-ubyte.gz to data/FashionMNIST/raw/train-images-idx3-ubyte.gz\n"
          ]
        },
        {
          "output_type": "display_data",
          "data": {
            "text/plain": [
              "  0%|          | 0/26421880 [00:00<?, ?it/s]"
            ],
            "application/vnd.jupyter.widget-view+json": {
              "version_major": 2,
              "version_minor": 0,
              "model_id": "9976b1b725b64c1db22e665762ca33b1"
            }
          },
          "metadata": {}
        },
        {
          "output_type": "stream",
          "name": "stdout",
          "text": [
            "Extracting data/FashionMNIST/raw/train-images-idx3-ubyte.gz to data/FashionMNIST/raw\n",
            "\n",
            "Downloading http://fashion-mnist.s3-website.eu-central-1.amazonaws.com/train-labels-idx1-ubyte.gz\n",
            "Downloading http://fashion-mnist.s3-website.eu-central-1.amazonaws.com/train-labels-idx1-ubyte.gz to data/FashionMNIST/raw/train-labels-idx1-ubyte.gz\n"
          ]
        },
        {
          "output_type": "display_data",
          "data": {
            "text/plain": [
              "  0%|          | 0/29515 [00:00<?, ?it/s]"
            ],
            "application/vnd.jupyter.widget-view+json": {
              "version_major": 2,
              "version_minor": 0,
              "model_id": "a3390f584a574bb9b95339e0bbebe199"
            }
          },
          "metadata": {}
        },
        {
          "output_type": "stream",
          "name": "stdout",
          "text": [
            "Extracting data/FashionMNIST/raw/train-labels-idx1-ubyte.gz to data/FashionMNIST/raw\n",
            "\n",
            "Downloading http://fashion-mnist.s3-website.eu-central-1.amazonaws.com/t10k-images-idx3-ubyte.gz\n",
            "Downloading http://fashion-mnist.s3-website.eu-central-1.amazonaws.com/t10k-images-idx3-ubyte.gz to data/FashionMNIST/raw/t10k-images-idx3-ubyte.gz\n"
          ]
        },
        {
          "output_type": "display_data",
          "data": {
            "text/plain": [
              "  0%|          | 0/4422102 [00:00<?, ?it/s]"
            ],
            "application/vnd.jupyter.widget-view+json": {
              "version_major": 2,
              "version_minor": 0,
              "model_id": "2043f97394cd4ccab8e2870b4afaf737"
            }
          },
          "metadata": {}
        },
        {
          "output_type": "stream",
          "name": "stdout",
          "text": [
            "Extracting data/FashionMNIST/raw/t10k-images-idx3-ubyte.gz to data/FashionMNIST/raw\n",
            "\n",
            "Downloading http://fashion-mnist.s3-website.eu-central-1.amazonaws.com/t10k-labels-idx1-ubyte.gz\n",
            "Downloading http://fashion-mnist.s3-website.eu-central-1.amazonaws.com/t10k-labels-idx1-ubyte.gz to data/FashionMNIST/raw/t10k-labels-idx1-ubyte.gz\n"
          ]
        },
        {
          "output_type": "display_data",
          "data": {
            "text/plain": [
              "  0%|          | 0/5148 [00:00<?, ?it/s]"
            ],
            "application/vnd.jupyter.widget-view+json": {
              "version_major": 2,
              "version_minor": 0,
              "model_id": "f268f816e93a46728aa5b897c8dfecd2"
            }
          },
          "metadata": {}
        },
        {
          "output_type": "stream",
          "name": "stdout",
          "text": [
            "Extracting data/FashionMNIST/raw/t10k-labels-idx1-ubyte.gz to data/FashionMNIST/raw\n",
            "\n"
          ]
        }
      ],
      "source": [
        "train_set = datasets.FashionMNIST(\"data\", train=True, download=True, transform=transforms.Compose([transforms.ToTensor(), transforms.RandomHorizontalFlip()]))\n",
        "val_set = datasets.FashionMNIST(\"data\", train=False, download=True, transform=transforms.Compose([transforms.ToTensor()]))\n",
        "\n",
        "train_loader = torch.utils.data.DataLoader(train_set, batch_size=256, shuffle=True, num_workers=2)\n",
        "val_loader = torch.utils.data.DataLoader(val_set, batch_size=512, shuffle=False, num_workers=2)"
      ]
    },
    {
      "cell_type": "markdown",
      "metadata": {
        "id": "_2WfJZGMKdIJ"
      },
      "source": [
        "The images of FashionMNIST are of size $(28 \\times 28)$ pixels, and have a single channel - the greyscale one. So they are given as a 2D tensor. You can easily check this:"
      ]
    },
    {
      "cell_type": "code",
      "execution_count": 4,
      "metadata": {
        "colab": {
          "base_uri": "https://localhost:8080/"
        },
        "id": "MbwZCGB9KdIJ",
        "outputId": "efceb6b3-25ce-44ec-99f6-10e0fd7c547f"
      },
      "outputs": [
        {
          "output_type": "execute_result",
          "data": {
            "text/plain": [
              "torch.Size([28, 28])"
            ]
          },
          "metadata": {},
          "execution_count": 4
        }
      ],
      "source": [
        "img = train_set.data[0]\n",
        "img.shape"
      ]
    },
    {
      "cell_type": "markdown",
      "metadata": {
        "id": "VyEjLgfjrWzs"
      },
      "source": [
        "## Filters and Convolutional layers"
      ]
    },
    {
      "cell_type": "markdown",
      "metadata": {
        "id": "jQ-lOYGJKdIK"
      },
      "source": [
        "To define a CNN model, similarly to the MLP case, we need to define all the operations and then combine them into the forward pass. Apart from `nn.Linear()` layers, we will now use `nn.Conv2d()` layers, which correspond to 2D convolutions.\n",
        "\n",
        "To perform a convolution, we need to define the size of our filters, and how many filters to use.\n",
        "\n",
        "The size of the filter is given by its width and height (which will be equal), and the number of channels which has to be the same as the number of channels of the input it will be applied to. So, if `in_channels` is the number of channels of the input, and `kernel_size` is the width and height of our filter, then our filter will be a tensor of shape $(in\\_channels \\times kernel\\_size \\times kernel\\_size)$.\n",
        "\n",
        "The other piece of information needed is how many filters to use. Remember that each filter gives rise to one activation map, which in turn corresponds to one channel in the output. So the number of filters to use is the same as the number of output channels (`out_channels`) we want to have.\n",
        "\n",
        "Internally, the set of weights that represent all the filters of a convolutional layer is stored as a single 4D tensor of shape (Number of filters, Number of channels, Height, Width), which would be equivalently $(out\\_channels \\times in\\_channels \\times kernel\\_size \\times kernel\\_size)$\n",
        "\n",
        "This is the minimum information needed to define a convolution layer. Unless otherwise specified, this would apply a default padding of zero and stride of 1. Have a look at the documentation for more details on the `nn.Conv2d()` layer.\n",
        "\n",
        "https://pytorch.org/docs/stable/generated/torch.nn.Conv2d.html?highlight=conv#torch.nn.Conv2d\n",
        "\n",
        "Finally, remember the formula to calculate the size of the output $o$ given the input size $n$ the filter size $f$ the padding $p$ and the stride $s$:\n",
        "\n",
        "$o = {\\frac {(n + 2p - f)} s} + 1$"
      ]
    },
    {
      "cell_type": "markdown",
      "metadata": {
        "id": "5W3PymfVKdIK"
      },
      "source": [
        "<br>\n",
        "<span style=\"color:blue\">\n",
        "\n",
        "**Exercise 1**: Given the following convolutional layer:\n",
        "\n",
        "`nn.Convd2(in_channels=20, out_channels=128, kernel_size=3)`\n",
        "\n",
        "What is the shape of the weights and biases of the convolutional layer?\n",
        "\n",
        "</span>"
      ]
    },
    {
      "cell_type": "markdown",
      "metadata": {
        "id": "TewFQ-U2KdIL"
      },
      "source": [
        "---\n",
        "\n",
        "*Shape of Weights: (128, 3, 3, 20)*\n",
        "\n",
        "*Shape of Biases: (128,)*\n",
        "\n",
        "---"
      ]
    },
    {
      "cell_type": "markdown",
      "metadata": {
        "id": "GghbdetxKdIL"
      },
      "source": [
        "## Our Convolutional Model"
      ]
    },
    {
      "cell_type": "markdown",
      "metadata": {
        "id": "ItTgdcQNKdIL"
      },
      "source": [
        "Let's define now our first CNN model. "
      ]
    },
    {
      "cell_type": "code",
      "execution_count": 6,
      "metadata": {
        "id": "a_AVY3pnKdIL"
      },
      "outputs": [],
      "source": [
        "class CNN(nn.Module):\n",
        "    def __init__(self, n_feature, output_size):\n",
        "        super(CNN, self).__init__()\n",
        "        self.n_feature = n_feature\n",
        "        self.conv1 = nn.Conv2d(in_channels=1, out_channels=n_feature, kernel_size = 5)\n",
        "        self.conv2 = nn.Conv2d(n_feature, n_feature, kernel_size=5)\n",
        "        self.fc1 = nn.Linear(16 * n_feature, 50)\n",
        "        self.fc2 = nn.Linear(50, 10)\n",
        "        self.maxpool = nn.MaxPool2d(kernel_size=2)\n",
        "        \n",
        "    def forward(self, x): # 28 x 28 x 1\n",
        "        x = self.conv1(x) #24 x 24 x n_features\n",
        "        x = F.relu(x) #nothing changes\n",
        "        x = self.maxpool(x) #12 x 12 x n_features\n",
        "        x = self.conv2(x) # 8 x 8 x n_features\n",
        "        x = F.relu(x) #nothing changes\n",
        "        x = self.maxpool(x) #4 x 4 x n_features\n",
        "        x = x.view(-1, self.n_feature) # 16* n_features (just a vector)\n",
        "        x = self.fc1(x)\n",
        "        x = F.relu(x)\n",
        "        x = self.fc2(x)\n",
        "        return x"
      ]
    },
    {
      "cell_type": "markdown",
      "metadata": {
        "id": "8JfrEwYiKdIL"
      },
      "source": [
        "<font color=\"green\">**Exercise 2**: The model defined above has a shape mismatch problem. Calculate the correct input dimension for `fc1` and change its definition in the `__init__()` method and the call to `x.view()` in the forward pass. </font>"
      ]
    },
    {
      "cell_type": "code",
      "execution_count": null,
      "metadata": {
        "id": "MxeEOBDzKdIL"
      },
      "outputs": [],
      "source": [
        "# Your Code Here\n"
      ]
    },
    {
      "cell_type": "markdown",
      "metadata": {
        "id": "xunCpYs2KdIM"
      },
      "source": [
        "## Hyperparameters"
      ]
    },
    {
      "cell_type": "markdown",
      "metadata": {
        "id": "Ak6J1CohKdIM"
      },
      "source": [
        "To use our CNN we need to create our model and define our hyperparameters. We will use an output size of 10, as there are 10 classes in FashionMNIST, and we will train with cross entropy loss and stochastic gradient descent."
      ]
    },
    {
      "cell_type": "code",
      "execution_count": null,
      "metadata": {
        "id": "oAoS_kiRZPYT"
      },
      "outputs": [],
      "source": [
        "torch.backends.cudnn.benchmark = True\n",
        "learning_rate = 1e-2\n",
        "lambda_l2 = 1e-5\n",
        "momentum = 0.5\n",
        "torch.manual_seed(0) # seed for reproductibility\n",
        "\n",
        "output_size = 10  # there are 10 classes\n",
        "\n",
        "model = CNN(6, output_size)\n",
        "\n",
        "print(f\"Number of parameters {get_n_params(model)}:\")\n",
        "\n",
        "# move model to gpu if available\n",
        "model.to(device)\n",
        "\n",
        "# nn package also has different loss functions.\n",
        "# we use cross entropy loss for our classification task\n",
        "criterion = torch.nn.CrossEntropyLoss() # https://pytorch.org/docs/stable/generated/torch.nn.CrossEntropyLoss.html#torch.nn.CrossEntropyLoss\n",
        "\n",
        "# we use the optim package to apply\n",
        "# stochastic gradient descent for our parameter updates\n",
        "optimizer = torch.optim.SGD(model.parameters(), lr=learning_rate, momentum=momentum, weight_decay=lambda_l2) # built-in L2"
      ]
    },
    {
      "cell_type": "markdown",
      "metadata": {
        "id": "Za4lUjhVKdIM"
      },
      "source": [
        "<br>\n",
        "<span style=\"color:blue\">\n",
        "\n",
        "**Exercise 3**: What does the line `torch.backends.cudnn.benchmark = True` do? How will it affect our runtime if the size of the input images vary a lot?</font>\n",
        "\n",
        "> Hint: Have a look at https://pytorch.org/docs/stable/backends.html\n",
        "\n",
        "</span>"
      ]
    },
    {
      "cell_type": "markdown",
      "metadata": {
        "id": "lwQnX_msKdIM"
      },
      "source": [
        "---\n",
        "\n",
        "*Your Answer Here*\n",
        "\n",
        "---"
      ]
    },
    {
      "cell_type": "markdown",
      "metadata": {
        "id": "e_3sYYSxKdIM"
      },
      "source": [
        "## Training and Validation"
      ]
    },
    {
      "cell_type": "markdown",
      "metadata": {
        "id": "TYDaiNAzKdIN"
      },
      "source": [
        "We should also define our training and validation loops. These are similar to previous notebooks."
      ]
    },
    {
      "cell_type": "code",
      "execution_count": null,
      "metadata": {
        "id": "Culizx1FKdIN"
      },
      "outputs": [],
      "source": [
        "@torch.no_grad()  # prevent this function from computing gradients \n",
        "def validate(criterion, model, loader):\n",
        "\n",
        "    val_loss = 0\n",
        "    correct = 0\n",
        "\n",
        "    model.eval()\n",
        "\n",
        "    for data, target in loader:\n",
        "\n",
        "        data, target = data.to(device), target.to(device)\n",
        "\n",
        "        output = model(data)\n",
        "        loss = criterion(output, target)\n",
        "        val_loss += loss.item()                                                              \n",
        "        pred = output.data.max(1, keepdim=True)[1] # get the index of the max log-probability                                                                 \n",
        "        correct += pred.eq(target.view_as(pred)).sum().item()\n",
        "\n",
        "    val_loss /= len(loader.dataset)\n",
        "    accuracy = 100. * correct / len(loader.dataset)\n",
        "    print('\\nTest set: Average loss: {:.4f}, Accuracy: {}/{} ({:.0f}%)\\n'.format(\n",
        "        val_loss, correct, len(loader.dataset), accuracy))\n",
        "\n",
        "\n",
        "    return val_loss\n",
        "\n",
        "\n",
        "def train(epoch, criterion, model, optimizer, loader):\n",
        "    \n",
        "    total_loss = 0.0\n",
        "\n",
        "    model.train()\n",
        "\n",
        "    for batch_idx, (data, target) in enumerate(loader):\n",
        "        \n",
        "        optimizer.zero_grad()\n",
        "\n",
        "        data, target = data.to(device), target.to(device)\n",
        "        \n",
        "        output = model(data)\n",
        "        loss = criterion(output, target)\n",
        "        loss.backward()\n",
        "        optimizer.step()\n",
        "        if batch_idx % 100 == 0:\n",
        "            print('Train Epoch: {} [{}/{} ({:.0f}%)]\\tLoss: {:.6f}'.format(\n",
        "                epoch, batch_idx * len(data), len(loader.dataset),\n",
        "                100. * batch_idx / len(loader), loss.item()))\n",
        "\n",
        "\n",
        "        total_loss += loss.item()  #.item() is very important here? Why?\n",
        "\n",
        "    return total_loss / len(loader.dataset)"
      ]
    },
    {
      "cell_type": "markdown",
      "metadata": {
        "id": "_Prc0qFO0SR5"
      },
      "source": [
        "### Run Training"
      ]
    },
    {
      "cell_type": "code",
      "execution_count": null,
      "metadata": {
        "id": "psBKsIFAtkXQ"
      },
      "outputs": [],
      "source": [
        "losses = {\"train\": [], \"val\": []}\n",
        "for epoch in range(10):\n",
        "\n",
        "    train_loss = train(epoch, criterion, model, optimizer, train_loader)\n",
        "    val_loss = validate(criterion, model, val_loader)\n",
        "    losses[\"train\"].append(train_loss)\n",
        "    losses[\"val\"].append(val_loss)\n",
        "    \n",
        "    plt.plot(losses[\"train\"], label=\"training loss\")\n",
        "    plt.plot(losses[\"val\"], label=\"validation loss\")\n",
        "\n",
        "    plt.legend()\n",
        "    plt.pause(0.000001)\n",
        "    plt.show()"
      ]
    },
    {
      "cell_type": "markdown",
      "metadata": {
        "id": "ZRw5UWpWKdIO"
      },
      "source": [
        "It may also be useful to visualize some qualitative examples of classification "
      ]
    },
    {
      "cell_type": "code",
      "execution_count": null,
      "metadata": {
        "id": "5uy-2-JaKdIO"
      },
      "outputs": [],
      "source": [
        "with torch.no_grad():\n",
        "\n",
        "    data, target = next(iter(val_loader))\n",
        "    data, target = data.to(device), target.to(device)\n",
        "\n",
        "    output = model(data)\n",
        "    predictions = np.argmax(output.cpu().numpy(), axis=1).tolist()\n",
        "    true = target.cpu().numpy().tolist()\n",
        "      \n",
        "    plt.figure(figsize=(16, 6))\n",
        "    \n",
        "    print(\"Correctly predicted: {}%\".format(100*sum(p == t for p, t in zip(predictions, true))/len(predictions)) )\n",
        "\n",
        "    for i in range(10):\n",
        "        plt.subplot(2, 5, i + 1)\n",
        "        image = data[i,...].cpu().numpy().reshape((28,28))\n",
        "        plt.imshow(image, cmap=\"gray\")\n",
        "        plt.axis('off')\n",
        "        plt.title('Predicted as {}\\n True label is {}'.format(val_set.classes[predictions[i]], val_set.classes[true[i]], ))"
      ]
    },
    {
      "cell_type": "markdown",
      "metadata": {
        "id": "W5avEOolKdIO"
      },
      "source": [
        "<br>\n",
        "<span style=\"color:blue\">\n",
        "    \n",
        "**Exercise 4**: Now repeat the same process, but flip the images horizontally before you run them through the model. Is your accuracy affected? Why?\n",
        "\n",
        "> Hint: Check out the `numpy.flip()` function at https://pytorch.org/docs/stable/generated/torch.flip.html\n",
        "\n",
        "</span>"
      ]
    },
    {
      "cell_type": "code",
      "execution_count": null,
      "metadata": {
        "id": "vFBRzpL2KdIO"
      },
      "outputs": [],
      "source": [
        "# Your Code Here\n"
      ]
    },
    {
      "cell_type": "markdown",
      "metadata": {
        "id": "IdaXoLsIKdIO"
      },
      "source": [
        "## Visualising Filters"
      ]
    },
    {
      "cell_type": "markdown",
      "metadata": {
        "id": "ynV-e4RnKdIP"
      },
      "source": [
        "One thing that would be interesting to visualise is the weights of the filters. To do so, we just need to access the weights of the convolutional layer of interest, and turn them into images. Here's an example for the first convolutional layer."
      ]
    },
    {
      "cell_type": "code",
      "execution_count": null,
      "metadata": {
        "id": "rCluc67FKdIP"
      },
      "outputs": [],
      "source": [
        "weight = model.conv1.weight.data.cpu().numpy()\n",
        "\n",
        "# Display the filters\n",
        "fig, ax = plt.subplots(1, weight.shape[0], figsize=(5, 5))\n",
        "\n",
        "for i in range(weight.shape[0]):\n",
        "    ax[i].imshow(weight[i, 0], cmap='gray') # show the first (and only) channel weights\n",
        "    ax[i].axes.get_xaxis().set_visible(False)        \n",
        "    ax[i].axes.get_yaxis().set_visible(False)"
      ]
    },
    {
      "cell_type": "markdown",
      "metadata": {
        "id": "N5yEpQXwKdIP"
      },
      "source": [
        "## Visualising Activation Maps"
      ]
    },
    {
      "cell_type": "markdown",
      "metadata": {
        "id": "HiEApWN9KdIP"
      },
      "source": [
        "Another thing would be to visualise the activations of a convolutional layer for a specific image when it goes through the model. To do so, we need to somehow capture the output of the convolutional layer during the forward pass. This can be done with the function `nn.Conv2d.register_forward_hook()`. This function accepts as argument a callback function that will be called by the model when the forward pass takes place.\n",
        "\n",
        "See some more information about this function below:"
      ]
    },
    {
      "cell_type": "code",
      "execution_count": null,
      "metadata": {
        "id": "uDmkS0muKdIP"
      },
      "outputs": [],
      "source": [
        "nn.Conv2d.register_forward_hook??"
      ]
    },
    {
      "cell_type": "markdown",
      "metadata": {
        "id": "fK3vU6HmKdIQ"
      },
      "source": [
        "To try this out, we will defineby hand a toy model that does edge detection, as well as a couple of images to apply it on"
      ]
    },
    {
      "cell_type": "code",
      "execution_count": null,
      "metadata": {
        "id": "iqGEmcXUKdIQ"
      },
      "outputs": [],
      "source": [
        "simpleEdgeDetector = nn.Conv2d(in_channels=1, out_channels=2, kernel_size=3)\n",
        "\n",
        "# Define a vertical edge detector filter\n",
        "simpleEdgeDetector.weight.data[0, 0] = torch.tensor([  [1., 0., -1.],\n",
        "                                                   [1., 0., -1.],\n",
        "                                                   [1., 0., -1.]])\n",
        "\n",
        "# Define an horizontal edge detector filter\n",
        "simpleEdgeDetector.weight.data[1, 0] = torch.tensor([  [1., 1., 1.],\n",
        "                                                   [0., 0., 0.],\n",
        "                                                   [-1., -1., -1.]])\n",
        "\n",
        "simpleEdgeDetector.bias.data = torch.zeros(2)\n",
        "\n",
        "simpleEdgeDetector = simpleEdgeDetector.to(device)\n",
        "\n",
        "\n",
        "fakeImageBatch = torch.zeros(2, 1, 26, 26) # create a batch of two black images of (10, 10)\n",
        "fakeImageBatch[0,0,3,3] = 1 # Paint white pixel (3, 3)\n",
        "fakeImageBatch[1,0,6,6] = 1 # Paint white pixel (6, 6)\n",
        "\n",
        "# Show the images\n",
        "fig, ax = plt.subplots(2, 1, figsize=(5, 5))\n",
        "ax[0].imshow(fakeImageBatch[0,0], cmap='gray')\n",
        "ax[1].imshow(fakeImageBatch[1,0], cmap='gray')"
      ]
    },
    {
      "cell_type": "markdown",
      "metadata": {
        "id": "AwqQoHCYKdIQ"
      },
      "source": [
        "Let's also define some helper functions to plot a grid of activation maps given the output of a convolution layer."
      ]
    },
    {
      "cell_type": "code",
      "execution_count": null,
      "metadata": {
        "id": "JkpQX06FKdIQ"
      },
      "outputs": [],
      "source": [
        "def showImage(img, ax):\n",
        "    # convert the tensor to numpy\n",
        "    out = img.numpy()\n",
        "    # Bring to the 0-255 range\n",
        "    out = out - out.min()\n",
        "    out = out / out.max()\n",
        "    out = out * 255\n",
        "    out = out.astype('uint8')\n",
        "    # Plot image\n",
        "    ax.axes.get_xaxis().set_visible(False)        \n",
        "    ax.axes.get_yaxis().set_visible(False)\n",
        "    ax.imshow(out, cmap='gray')\n",
        "\n",
        "def showConvMap(conv_map):\n",
        "    # Create a grid of images\n",
        "    h = conv_map.shape[0] # = number of images in the batch\n",
        "    w = conv_map.shape[1] # = number of activation maps per image\n",
        "    fig, ax = plt.subplots(h, w, figsize=(10, 10))\n",
        "\n",
        "    # Plot activation maps\n",
        "    for i in range(conv_map.shape[0]):\n",
        "        for j in range(conv_map.shape[1]):\n",
        "            showImage(conv_map[i][j], ax[i, j])\n",
        "    \n",
        "    fig.tight_layout()"
      ]
    },
    {
      "cell_type": "markdown",
      "metadata": {
        "id": "04LVAszWKdIQ"
      },
      "source": [
        "Now we can define our hook function, which just calls `showConvMap()` to plot the output activation maps for all the images of our batch and all the filters of this layer."
      ]
    },
    {
      "cell_type": "code",
      "execution_count": null,
      "metadata": {
        "id": "DVYIPxaYKdIQ"
      },
      "outputs": [],
      "source": [
        "def hook_ShowOutput(module, input, output):\n",
        "    print(\"Output shape:\", output.shape)\n",
        "    showConvMap(output.cpu())\n",
        "\n",
        "fakeImageBatch = fakeImageBatch.to(device)\n",
        "\n",
        "with torch.no_grad():\n",
        "    handle = simpleEdgeDetector.register_forward_hook(hook_ShowOutput)\n",
        "    embed = simpleEdgeDetector(fakeImageBatch)\n",
        "    handle.remove()"
      ]
    },
    {
      "cell_type": "markdown",
      "metadata": {
        "id": "8Efp1cTIKdIR"
      },
      "source": [
        "<br>\n",
        "<span style=\"color:blue\">\n",
        "    \n",
        "**Exercise 5**: Visualize the feature (activation) maps of the first and last convolutional layers of our CNN model for 10 images of your validation set. Use the code provided before as the basis for your visualisation. What conclusions can you draw?\n",
        "    \n",
        "</span>"
      ]
    },
    {
      "cell_type": "code",
      "execution_count": null,
      "metadata": {
        "id": "BYkadcK-KdIR"
      },
      "outputs": [],
      "source": [
        "# Your Code Here\n"
      ]
    },
    {
      "cell_type": "markdown",
      "metadata": {
        "id": "ErpCTuJ5k4ZH"
      },
      "source": [
        "---\n",
        "\n",
        "*Your Answer Here*\n",
        "\n",
        "---"
      ]
    },
    {
      "cell_type": "code",
      "execution_count": null,
      "metadata": {
        "id": "nVaCrKqrKdIR"
      },
      "outputs": [],
      "source": []
    }
  ],
  "metadata": {
    "accelerator": "GPU",
    "colab": {
      "provenance": [],
      "include_colab_link": true
    },
    "kernelspec": {
      "display_name": "pytorch",
      "language": "python",
      "name": "pytorch"
    },
    "language_info": {
      "codemirror_mode": {
        "name": "ipython",
        "version": 3
      },
      "file_extension": ".py",
      "mimetype": "text/x-python",
      "name": "python",
      "nbconvert_exporter": "python",
      "pygments_lexer": "ipython3",
      "version": "3.9.16"
    },
    "widgets": {
      "application/vnd.jupyter.widget-state+json": {
        "9976b1b725b64c1db22e665762ca33b1": {
          "model_module": "@jupyter-widgets/controls",
          "model_name": "HBoxModel",
          "model_module_version": "1.5.0",
          "state": {
            "_dom_classes": [],
            "_model_module": "@jupyter-widgets/controls",
            "_model_module_version": "1.5.0",
            "_model_name": "HBoxModel",
            "_view_count": null,
            "_view_module": "@jupyter-widgets/controls",
            "_view_module_version": "1.5.0",
            "_view_name": "HBoxView",
            "box_style": "",
            "children": [
              "IPY_MODEL_5eacddec4a074f4dbb8a92dfc4bffd2b",
              "IPY_MODEL_e4d7c1bf648143d9825f2d12193a7cca",
              "IPY_MODEL_fb6052ebd63f40719fc71d75e901cc66"
            ],
            "layout": "IPY_MODEL_550e00e690764e78a1de7e8ffe7634c0"
          }
        },
        "5eacddec4a074f4dbb8a92dfc4bffd2b": {
          "model_module": "@jupyter-widgets/controls",
          "model_name": "HTMLModel",
          "model_module_version": "1.5.0",
          "state": {
            "_dom_classes": [],
            "_model_module": "@jupyter-widgets/controls",
            "_model_module_version": "1.5.0",
            "_model_name": "HTMLModel",
            "_view_count": null,
            "_view_module": "@jupyter-widgets/controls",
            "_view_module_version": "1.5.0",
            "_view_name": "HTMLView",
            "description": "",
            "description_tooltip": null,
            "layout": "IPY_MODEL_e784e841315a40e49cda8779459cd683",
            "placeholder": "​",
            "style": "IPY_MODEL_dedf9b5e65c840139de52cdb315cc9e2",
            "value": "100%"
          }
        },
        "e4d7c1bf648143d9825f2d12193a7cca": {
          "model_module": "@jupyter-widgets/controls",
          "model_name": "FloatProgressModel",
          "model_module_version": "1.5.0",
          "state": {
            "_dom_classes": [],
            "_model_module": "@jupyter-widgets/controls",
            "_model_module_version": "1.5.0",
            "_model_name": "FloatProgressModel",
            "_view_count": null,
            "_view_module": "@jupyter-widgets/controls",
            "_view_module_version": "1.5.0",
            "_view_name": "ProgressView",
            "bar_style": "success",
            "description": "",
            "description_tooltip": null,
            "layout": "IPY_MODEL_0f8ff617109841c492800a71901f167d",
            "max": 26421880,
            "min": 0,
            "orientation": "horizontal",
            "style": "IPY_MODEL_acb64cb4faa349209ecb9abc23970626",
            "value": 26421880
          }
        },
        "fb6052ebd63f40719fc71d75e901cc66": {
          "model_module": "@jupyter-widgets/controls",
          "model_name": "HTMLModel",
          "model_module_version": "1.5.0",
          "state": {
            "_dom_classes": [],
            "_model_module": "@jupyter-widgets/controls",
            "_model_module_version": "1.5.0",
            "_model_name": "HTMLModel",
            "_view_count": null,
            "_view_module": "@jupyter-widgets/controls",
            "_view_module_version": "1.5.0",
            "_view_name": "HTMLView",
            "description": "",
            "description_tooltip": null,
            "layout": "IPY_MODEL_38ba8c0432354af28a2221a8a8cc825a",
            "placeholder": "​",
            "style": "IPY_MODEL_7731e8a339d84f168db8ae7c92826710",
            "value": " 26421880/26421880 [00:03&lt;00:00, 13654874.14it/s]"
          }
        },
        "550e00e690764e78a1de7e8ffe7634c0": {
          "model_module": "@jupyter-widgets/base",
          "model_name": "LayoutModel",
          "model_module_version": "1.2.0",
          "state": {
            "_model_module": "@jupyter-widgets/base",
            "_model_module_version": "1.2.0",
            "_model_name": "LayoutModel",
            "_view_count": null,
            "_view_module": "@jupyter-widgets/base",
            "_view_module_version": "1.2.0",
            "_view_name": "LayoutView",
            "align_content": null,
            "align_items": null,
            "align_self": null,
            "border": null,
            "bottom": null,
            "display": null,
            "flex": null,
            "flex_flow": null,
            "grid_area": null,
            "grid_auto_columns": null,
            "grid_auto_flow": null,
            "grid_auto_rows": null,
            "grid_column": null,
            "grid_gap": null,
            "grid_row": null,
            "grid_template_areas": null,
            "grid_template_columns": null,
            "grid_template_rows": null,
            "height": null,
            "justify_content": null,
            "justify_items": null,
            "left": null,
            "margin": null,
            "max_height": null,
            "max_width": null,
            "min_height": null,
            "min_width": null,
            "object_fit": null,
            "object_position": null,
            "order": null,
            "overflow": null,
            "overflow_x": null,
            "overflow_y": null,
            "padding": null,
            "right": null,
            "top": null,
            "visibility": null,
            "width": null
          }
        },
        "e784e841315a40e49cda8779459cd683": {
          "model_module": "@jupyter-widgets/base",
          "model_name": "LayoutModel",
          "model_module_version": "1.2.0",
          "state": {
            "_model_module": "@jupyter-widgets/base",
            "_model_module_version": "1.2.0",
            "_model_name": "LayoutModel",
            "_view_count": null,
            "_view_module": "@jupyter-widgets/base",
            "_view_module_version": "1.2.0",
            "_view_name": "LayoutView",
            "align_content": null,
            "align_items": null,
            "align_self": null,
            "border": null,
            "bottom": null,
            "display": null,
            "flex": null,
            "flex_flow": null,
            "grid_area": null,
            "grid_auto_columns": null,
            "grid_auto_flow": null,
            "grid_auto_rows": null,
            "grid_column": null,
            "grid_gap": null,
            "grid_row": null,
            "grid_template_areas": null,
            "grid_template_columns": null,
            "grid_template_rows": null,
            "height": null,
            "justify_content": null,
            "justify_items": null,
            "left": null,
            "margin": null,
            "max_height": null,
            "max_width": null,
            "min_height": null,
            "min_width": null,
            "object_fit": null,
            "object_position": null,
            "order": null,
            "overflow": null,
            "overflow_x": null,
            "overflow_y": null,
            "padding": null,
            "right": null,
            "top": null,
            "visibility": null,
            "width": null
          }
        },
        "dedf9b5e65c840139de52cdb315cc9e2": {
          "model_module": "@jupyter-widgets/controls",
          "model_name": "DescriptionStyleModel",
          "model_module_version": "1.5.0",
          "state": {
            "_model_module": "@jupyter-widgets/controls",
            "_model_module_version": "1.5.0",
            "_model_name": "DescriptionStyleModel",
            "_view_count": null,
            "_view_module": "@jupyter-widgets/base",
            "_view_module_version": "1.2.0",
            "_view_name": "StyleView",
            "description_width": ""
          }
        },
        "0f8ff617109841c492800a71901f167d": {
          "model_module": "@jupyter-widgets/base",
          "model_name": "LayoutModel",
          "model_module_version": "1.2.0",
          "state": {
            "_model_module": "@jupyter-widgets/base",
            "_model_module_version": "1.2.0",
            "_model_name": "LayoutModel",
            "_view_count": null,
            "_view_module": "@jupyter-widgets/base",
            "_view_module_version": "1.2.0",
            "_view_name": "LayoutView",
            "align_content": null,
            "align_items": null,
            "align_self": null,
            "border": null,
            "bottom": null,
            "display": null,
            "flex": null,
            "flex_flow": null,
            "grid_area": null,
            "grid_auto_columns": null,
            "grid_auto_flow": null,
            "grid_auto_rows": null,
            "grid_column": null,
            "grid_gap": null,
            "grid_row": null,
            "grid_template_areas": null,
            "grid_template_columns": null,
            "grid_template_rows": null,
            "height": null,
            "justify_content": null,
            "justify_items": null,
            "left": null,
            "margin": null,
            "max_height": null,
            "max_width": null,
            "min_height": null,
            "min_width": null,
            "object_fit": null,
            "object_position": null,
            "order": null,
            "overflow": null,
            "overflow_x": null,
            "overflow_y": null,
            "padding": null,
            "right": null,
            "top": null,
            "visibility": null,
            "width": null
          }
        },
        "acb64cb4faa349209ecb9abc23970626": {
          "model_module": "@jupyter-widgets/controls",
          "model_name": "ProgressStyleModel",
          "model_module_version": "1.5.0",
          "state": {
            "_model_module": "@jupyter-widgets/controls",
            "_model_module_version": "1.5.0",
            "_model_name": "ProgressStyleModel",
            "_view_count": null,
            "_view_module": "@jupyter-widgets/base",
            "_view_module_version": "1.2.0",
            "_view_name": "StyleView",
            "bar_color": null,
            "description_width": ""
          }
        },
        "38ba8c0432354af28a2221a8a8cc825a": {
          "model_module": "@jupyter-widgets/base",
          "model_name": "LayoutModel",
          "model_module_version": "1.2.0",
          "state": {
            "_model_module": "@jupyter-widgets/base",
            "_model_module_version": "1.2.0",
            "_model_name": "LayoutModel",
            "_view_count": null,
            "_view_module": "@jupyter-widgets/base",
            "_view_module_version": "1.2.0",
            "_view_name": "LayoutView",
            "align_content": null,
            "align_items": null,
            "align_self": null,
            "border": null,
            "bottom": null,
            "display": null,
            "flex": null,
            "flex_flow": null,
            "grid_area": null,
            "grid_auto_columns": null,
            "grid_auto_flow": null,
            "grid_auto_rows": null,
            "grid_column": null,
            "grid_gap": null,
            "grid_row": null,
            "grid_template_areas": null,
            "grid_template_columns": null,
            "grid_template_rows": null,
            "height": null,
            "justify_content": null,
            "justify_items": null,
            "left": null,
            "margin": null,
            "max_height": null,
            "max_width": null,
            "min_height": null,
            "min_width": null,
            "object_fit": null,
            "object_position": null,
            "order": null,
            "overflow": null,
            "overflow_x": null,
            "overflow_y": null,
            "padding": null,
            "right": null,
            "top": null,
            "visibility": null,
            "width": null
          }
        },
        "7731e8a339d84f168db8ae7c92826710": {
          "model_module": "@jupyter-widgets/controls",
          "model_name": "DescriptionStyleModel",
          "model_module_version": "1.5.0",
          "state": {
            "_model_module": "@jupyter-widgets/controls",
            "_model_module_version": "1.5.0",
            "_model_name": "DescriptionStyleModel",
            "_view_count": null,
            "_view_module": "@jupyter-widgets/base",
            "_view_module_version": "1.2.0",
            "_view_name": "StyleView",
            "description_width": ""
          }
        },
        "a3390f584a574bb9b95339e0bbebe199": {
          "model_module": "@jupyter-widgets/controls",
          "model_name": "HBoxModel",
          "model_module_version": "1.5.0",
          "state": {
            "_dom_classes": [],
            "_model_module": "@jupyter-widgets/controls",
            "_model_module_version": "1.5.0",
            "_model_name": "HBoxModel",
            "_view_count": null,
            "_view_module": "@jupyter-widgets/controls",
            "_view_module_version": "1.5.0",
            "_view_name": "HBoxView",
            "box_style": "",
            "children": [
              "IPY_MODEL_1578188642894007865b7d7ce5b1fdc0",
              "IPY_MODEL_5cdd3379e4e14ed7bdc0377c2b181092",
              "IPY_MODEL_6f60c1054cdb4c608ae15197c66ebdf3"
            ],
            "layout": "IPY_MODEL_29b51e5c33b84dd19ea44099af3fa60b"
          }
        },
        "1578188642894007865b7d7ce5b1fdc0": {
          "model_module": "@jupyter-widgets/controls",
          "model_name": "HTMLModel",
          "model_module_version": "1.5.0",
          "state": {
            "_dom_classes": [],
            "_model_module": "@jupyter-widgets/controls",
            "_model_module_version": "1.5.0",
            "_model_name": "HTMLModel",
            "_view_count": null,
            "_view_module": "@jupyter-widgets/controls",
            "_view_module_version": "1.5.0",
            "_view_name": "HTMLView",
            "description": "",
            "description_tooltip": null,
            "layout": "IPY_MODEL_5dc1f53f936e463daa12f0a35cada45b",
            "placeholder": "​",
            "style": "IPY_MODEL_8dd93137d87b4cfaab2263bbbd63e861",
            "value": "100%"
          }
        },
        "5cdd3379e4e14ed7bdc0377c2b181092": {
          "model_module": "@jupyter-widgets/controls",
          "model_name": "FloatProgressModel",
          "model_module_version": "1.5.0",
          "state": {
            "_dom_classes": [],
            "_model_module": "@jupyter-widgets/controls",
            "_model_module_version": "1.5.0",
            "_model_name": "FloatProgressModel",
            "_view_count": null,
            "_view_module": "@jupyter-widgets/controls",
            "_view_module_version": "1.5.0",
            "_view_name": "ProgressView",
            "bar_style": "success",
            "description": "",
            "description_tooltip": null,
            "layout": "IPY_MODEL_45baa4a09a4e40748d70c8a36097f119",
            "max": 29515,
            "min": 0,
            "orientation": "horizontal",
            "style": "IPY_MODEL_636d4f148889436ea4042cce6008022e",
            "value": 29515
          }
        },
        "6f60c1054cdb4c608ae15197c66ebdf3": {
          "model_module": "@jupyter-widgets/controls",
          "model_name": "HTMLModel",
          "model_module_version": "1.5.0",
          "state": {
            "_dom_classes": [],
            "_model_module": "@jupyter-widgets/controls",
            "_model_module_version": "1.5.0",
            "_model_name": "HTMLModel",
            "_view_count": null,
            "_view_module": "@jupyter-widgets/controls",
            "_view_module_version": "1.5.0",
            "_view_name": "HTMLView",
            "description": "",
            "description_tooltip": null,
            "layout": "IPY_MODEL_acd4b8bcb22c447fbf8a3acb4abe15d8",
            "placeholder": "​",
            "style": "IPY_MODEL_5267f02f246c470291c6cc05a310660d",
            "value": " 29515/29515 [00:00&lt;00:00, 148387.07it/s]"
          }
        },
        "29b51e5c33b84dd19ea44099af3fa60b": {
          "model_module": "@jupyter-widgets/base",
          "model_name": "LayoutModel",
          "model_module_version": "1.2.0",
          "state": {
            "_model_module": "@jupyter-widgets/base",
            "_model_module_version": "1.2.0",
            "_model_name": "LayoutModel",
            "_view_count": null,
            "_view_module": "@jupyter-widgets/base",
            "_view_module_version": "1.2.0",
            "_view_name": "LayoutView",
            "align_content": null,
            "align_items": null,
            "align_self": null,
            "border": null,
            "bottom": null,
            "display": null,
            "flex": null,
            "flex_flow": null,
            "grid_area": null,
            "grid_auto_columns": null,
            "grid_auto_flow": null,
            "grid_auto_rows": null,
            "grid_column": null,
            "grid_gap": null,
            "grid_row": null,
            "grid_template_areas": null,
            "grid_template_columns": null,
            "grid_template_rows": null,
            "height": null,
            "justify_content": null,
            "justify_items": null,
            "left": null,
            "margin": null,
            "max_height": null,
            "max_width": null,
            "min_height": null,
            "min_width": null,
            "object_fit": null,
            "object_position": null,
            "order": null,
            "overflow": null,
            "overflow_x": null,
            "overflow_y": null,
            "padding": null,
            "right": null,
            "top": null,
            "visibility": null,
            "width": null
          }
        },
        "5dc1f53f936e463daa12f0a35cada45b": {
          "model_module": "@jupyter-widgets/base",
          "model_name": "LayoutModel",
          "model_module_version": "1.2.0",
          "state": {
            "_model_module": "@jupyter-widgets/base",
            "_model_module_version": "1.2.0",
            "_model_name": "LayoutModel",
            "_view_count": null,
            "_view_module": "@jupyter-widgets/base",
            "_view_module_version": "1.2.0",
            "_view_name": "LayoutView",
            "align_content": null,
            "align_items": null,
            "align_self": null,
            "border": null,
            "bottom": null,
            "display": null,
            "flex": null,
            "flex_flow": null,
            "grid_area": null,
            "grid_auto_columns": null,
            "grid_auto_flow": null,
            "grid_auto_rows": null,
            "grid_column": null,
            "grid_gap": null,
            "grid_row": null,
            "grid_template_areas": null,
            "grid_template_columns": null,
            "grid_template_rows": null,
            "height": null,
            "justify_content": null,
            "justify_items": null,
            "left": null,
            "margin": null,
            "max_height": null,
            "max_width": null,
            "min_height": null,
            "min_width": null,
            "object_fit": null,
            "object_position": null,
            "order": null,
            "overflow": null,
            "overflow_x": null,
            "overflow_y": null,
            "padding": null,
            "right": null,
            "top": null,
            "visibility": null,
            "width": null
          }
        },
        "8dd93137d87b4cfaab2263bbbd63e861": {
          "model_module": "@jupyter-widgets/controls",
          "model_name": "DescriptionStyleModel",
          "model_module_version": "1.5.0",
          "state": {
            "_model_module": "@jupyter-widgets/controls",
            "_model_module_version": "1.5.0",
            "_model_name": "DescriptionStyleModel",
            "_view_count": null,
            "_view_module": "@jupyter-widgets/base",
            "_view_module_version": "1.2.0",
            "_view_name": "StyleView",
            "description_width": ""
          }
        },
        "45baa4a09a4e40748d70c8a36097f119": {
          "model_module": "@jupyter-widgets/base",
          "model_name": "LayoutModel",
          "model_module_version": "1.2.0",
          "state": {
            "_model_module": "@jupyter-widgets/base",
            "_model_module_version": "1.2.0",
            "_model_name": "LayoutModel",
            "_view_count": null,
            "_view_module": "@jupyter-widgets/base",
            "_view_module_version": "1.2.0",
            "_view_name": "LayoutView",
            "align_content": null,
            "align_items": null,
            "align_self": null,
            "border": null,
            "bottom": null,
            "display": null,
            "flex": null,
            "flex_flow": null,
            "grid_area": null,
            "grid_auto_columns": null,
            "grid_auto_flow": null,
            "grid_auto_rows": null,
            "grid_column": null,
            "grid_gap": null,
            "grid_row": null,
            "grid_template_areas": null,
            "grid_template_columns": null,
            "grid_template_rows": null,
            "height": null,
            "justify_content": null,
            "justify_items": null,
            "left": null,
            "margin": null,
            "max_height": null,
            "max_width": null,
            "min_height": null,
            "min_width": null,
            "object_fit": null,
            "object_position": null,
            "order": null,
            "overflow": null,
            "overflow_x": null,
            "overflow_y": null,
            "padding": null,
            "right": null,
            "top": null,
            "visibility": null,
            "width": null
          }
        },
        "636d4f148889436ea4042cce6008022e": {
          "model_module": "@jupyter-widgets/controls",
          "model_name": "ProgressStyleModel",
          "model_module_version": "1.5.0",
          "state": {
            "_model_module": "@jupyter-widgets/controls",
            "_model_module_version": "1.5.0",
            "_model_name": "ProgressStyleModel",
            "_view_count": null,
            "_view_module": "@jupyter-widgets/base",
            "_view_module_version": "1.2.0",
            "_view_name": "StyleView",
            "bar_color": null,
            "description_width": ""
          }
        },
        "acd4b8bcb22c447fbf8a3acb4abe15d8": {
          "model_module": "@jupyter-widgets/base",
          "model_name": "LayoutModel",
          "model_module_version": "1.2.0",
          "state": {
            "_model_module": "@jupyter-widgets/base",
            "_model_module_version": "1.2.0",
            "_model_name": "LayoutModel",
            "_view_count": null,
            "_view_module": "@jupyter-widgets/base",
            "_view_module_version": "1.2.0",
            "_view_name": "LayoutView",
            "align_content": null,
            "align_items": null,
            "align_self": null,
            "border": null,
            "bottom": null,
            "display": null,
            "flex": null,
            "flex_flow": null,
            "grid_area": null,
            "grid_auto_columns": null,
            "grid_auto_flow": null,
            "grid_auto_rows": null,
            "grid_column": null,
            "grid_gap": null,
            "grid_row": null,
            "grid_template_areas": null,
            "grid_template_columns": null,
            "grid_template_rows": null,
            "height": null,
            "justify_content": null,
            "justify_items": null,
            "left": null,
            "margin": null,
            "max_height": null,
            "max_width": null,
            "min_height": null,
            "min_width": null,
            "object_fit": null,
            "object_position": null,
            "order": null,
            "overflow": null,
            "overflow_x": null,
            "overflow_y": null,
            "padding": null,
            "right": null,
            "top": null,
            "visibility": null,
            "width": null
          }
        },
        "5267f02f246c470291c6cc05a310660d": {
          "model_module": "@jupyter-widgets/controls",
          "model_name": "DescriptionStyleModel",
          "model_module_version": "1.5.0",
          "state": {
            "_model_module": "@jupyter-widgets/controls",
            "_model_module_version": "1.5.0",
            "_model_name": "DescriptionStyleModel",
            "_view_count": null,
            "_view_module": "@jupyter-widgets/base",
            "_view_module_version": "1.2.0",
            "_view_name": "StyleView",
            "description_width": ""
          }
        },
        "2043f97394cd4ccab8e2870b4afaf737": {
          "model_module": "@jupyter-widgets/controls",
          "model_name": "HBoxModel",
          "model_module_version": "1.5.0",
          "state": {
            "_dom_classes": [],
            "_model_module": "@jupyter-widgets/controls",
            "_model_module_version": "1.5.0",
            "_model_name": "HBoxModel",
            "_view_count": null,
            "_view_module": "@jupyter-widgets/controls",
            "_view_module_version": "1.5.0",
            "_view_name": "HBoxView",
            "box_style": "",
            "children": [
              "IPY_MODEL_9b699108227c4cacb598ae90dc0f02dc",
              "IPY_MODEL_0d7913039c874a559171bd36f95cb602",
              "IPY_MODEL_0ba277402a6b49289a7189a368698793"
            ],
            "layout": "IPY_MODEL_947b4d50f97d407ba8a1bf9cca2abf71"
          }
        },
        "9b699108227c4cacb598ae90dc0f02dc": {
          "model_module": "@jupyter-widgets/controls",
          "model_name": "HTMLModel",
          "model_module_version": "1.5.0",
          "state": {
            "_dom_classes": [],
            "_model_module": "@jupyter-widgets/controls",
            "_model_module_version": "1.5.0",
            "_model_name": "HTMLModel",
            "_view_count": null,
            "_view_module": "@jupyter-widgets/controls",
            "_view_module_version": "1.5.0",
            "_view_name": "HTMLView",
            "description": "",
            "description_tooltip": null,
            "layout": "IPY_MODEL_6c467f0174d54f9e927d599eb8bbf828",
            "placeholder": "​",
            "style": "IPY_MODEL_c20b09a84ed04bb6b5f40c76c25a9837",
            "value": "100%"
          }
        },
        "0d7913039c874a559171bd36f95cb602": {
          "model_module": "@jupyter-widgets/controls",
          "model_name": "FloatProgressModel",
          "model_module_version": "1.5.0",
          "state": {
            "_dom_classes": [],
            "_model_module": "@jupyter-widgets/controls",
            "_model_module_version": "1.5.0",
            "_model_name": "FloatProgressModel",
            "_view_count": null,
            "_view_module": "@jupyter-widgets/controls",
            "_view_module_version": "1.5.0",
            "_view_name": "ProgressView",
            "bar_style": "success",
            "description": "",
            "description_tooltip": null,
            "layout": "IPY_MODEL_a7dad00fca2f4ec8b08a2b7f987ffb24",
            "max": 4422102,
            "min": 0,
            "orientation": "horizontal",
            "style": "IPY_MODEL_ba9aa7c791784e579b853fc9d1766a26",
            "value": 4422102
          }
        },
        "0ba277402a6b49289a7189a368698793": {
          "model_module": "@jupyter-widgets/controls",
          "model_name": "HTMLModel",
          "model_module_version": "1.5.0",
          "state": {
            "_dom_classes": [],
            "_model_module": "@jupyter-widgets/controls",
            "_model_module_version": "1.5.0",
            "_model_name": "HTMLModel",
            "_view_count": null,
            "_view_module": "@jupyter-widgets/controls",
            "_view_module_version": "1.5.0",
            "_view_name": "HTMLView",
            "description": "",
            "description_tooltip": null,
            "layout": "IPY_MODEL_c1595845c591424881109faf24ee2c05",
            "placeholder": "​",
            "style": "IPY_MODEL_64f0a70f214a46718e82813478d53b02",
            "value": " 4422102/4422102 [00:01&lt;00:00, 4470317.47it/s]"
          }
        },
        "947b4d50f97d407ba8a1bf9cca2abf71": {
          "model_module": "@jupyter-widgets/base",
          "model_name": "LayoutModel",
          "model_module_version": "1.2.0",
          "state": {
            "_model_module": "@jupyter-widgets/base",
            "_model_module_version": "1.2.0",
            "_model_name": "LayoutModel",
            "_view_count": null,
            "_view_module": "@jupyter-widgets/base",
            "_view_module_version": "1.2.0",
            "_view_name": "LayoutView",
            "align_content": null,
            "align_items": null,
            "align_self": null,
            "border": null,
            "bottom": null,
            "display": null,
            "flex": null,
            "flex_flow": null,
            "grid_area": null,
            "grid_auto_columns": null,
            "grid_auto_flow": null,
            "grid_auto_rows": null,
            "grid_column": null,
            "grid_gap": null,
            "grid_row": null,
            "grid_template_areas": null,
            "grid_template_columns": null,
            "grid_template_rows": null,
            "height": null,
            "justify_content": null,
            "justify_items": null,
            "left": null,
            "margin": null,
            "max_height": null,
            "max_width": null,
            "min_height": null,
            "min_width": null,
            "object_fit": null,
            "object_position": null,
            "order": null,
            "overflow": null,
            "overflow_x": null,
            "overflow_y": null,
            "padding": null,
            "right": null,
            "top": null,
            "visibility": null,
            "width": null
          }
        },
        "6c467f0174d54f9e927d599eb8bbf828": {
          "model_module": "@jupyter-widgets/base",
          "model_name": "LayoutModel",
          "model_module_version": "1.2.0",
          "state": {
            "_model_module": "@jupyter-widgets/base",
            "_model_module_version": "1.2.0",
            "_model_name": "LayoutModel",
            "_view_count": null,
            "_view_module": "@jupyter-widgets/base",
            "_view_module_version": "1.2.0",
            "_view_name": "LayoutView",
            "align_content": null,
            "align_items": null,
            "align_self": null,
            "border": null,
            "bottom": null,
            "display": null,
            "flex": null,
            "flex_flow": null,
            "grid_area": null,
            "grid_auto_columns": null,
            "grid_auto_flow": null,
            "grid_auto_rows": null,
            "grid_column": null,
            "grid_gap": null,
            "grid_row": null,
            "grid_template_areas": null,
            "grid_template_columns": null,
            "grid_template_rows": null,
            "height": null,
            "justify_content": null,
            "justify_items": null,
            "left": null,
            "margin": null,
            "max_height": null,
            "max_width": null,
            "min_height": null,
            "min_width": null,
            "object_fit": null,
            "object_position": null,
            "order": null,
            "overflow": null,
            "overflow_x": null,
            "overflow_y": null,
            "padding": null,
            "right": null,
            "top": null,
            "visibility": null,
            "width": null
          }
        },
        "c20b09a84ed04bb6b5f40c76c25a9837": {
          "model_module": "@jupyter-widgets/controls",
          "model_name": "DescriptionStyleModel",
          "model_module_version": "1.5.0",
          "state": {
            "_model_module": "@jupyter-widgets/controls",
            "_model_module_version": "1.5.0",
            "_model_name": "DescriptionStyleModel",
            "_view_count": null,
            "_view_module": "@jupyter-widgets/base",
            "_view_module_version": "1.2.0",
            "_view_name": "StyleView",
            "description_width": ""
          }
        },
        "a7dad00fca2f4ec8b08a2b7f987ffb24": {
          "model_module": "@jupyter-widgets/base",
          "model_name": "LayoutModel",
          "model_module_version": "1.2.0",
          "state": {
            "_model_module": "@jupyter-widgets/base",
            "_model_module_version": "1.2.0",
            "_model_name": "LayoutModel",
            "_view_count": null,
            "_view_module": "@jupyter-widgets/base",
            "_view_module_version": "1.2.0",
            "_view_name": "LayoutView",
            "align_content": null,
            "align_items": null,
            "align_self": null,
            "border": null,
            "bottom": null,
            "display": null,
            "flex": null,
            "flex_flow": null,
            "grid_area": null,
            "grid_auto_columns": null,
            "grid_auto_flow": null,
            "grid_auto_rows": null,
            "grid_column": null,
            "grid_gap": null,
            "grid_row": null,
            "grid_template_areas": null,
            "grid_template_columns": null,
            "grid_template_rows": null,
            "height": null,
            "justify_content": null,
            "justify_items": null,
            "left": null,
            "margin": null,
            "max_height": null,
            "max_width": null,
            "min_height": null,
            "min_width": null,
            "object_fit": null,
            "object_position": null,
            "order": null,
            "overflow": null,
            "overflow_x": null,
            "overflow_y": null,
            "padding": null,
            "right": null,
            "top": null,
            "visibility": null,
            "width": null
          }
        },
        "ba9aa7c791784e579b853fc9d1766a26": {
          "model_module": "@jupyter-widgets/controls",
          "model_name": "ProgressStyleModel",
          "model_module_version": "1.5.0",
          "state": {
            "_model_module": "@jupyter-widgets/controls",
            "_model_module_version": "1.5.0",
            "_model_name": "ProgressStyleModel",
            "_view_count": null,
            "_view_module": "@jupyter-widgets/base",
            "_view_module_version": "1.2.0",
            "_view_name": "StyleView",
            "bar_color": null,
            "description_width": ""
          }
        },
        "c1595845c591424881109faf24ee2c05": {
          "model_module": "@jupyter-widgets/base",
          "model_name": "LayoutModel",
          "model_module_version": "1.2.0",
          "state": {
            "_model_module": "@jupyter-widgets/base",
            "_model_module_version": "1.2.0",
            "_model_name": "LayoutModel",
            "_view_count": null,
            "_view_module": "@jupyter-widgets/base",
            "_view_module_version": "1.2.0",
            "_view_name": "LayoutView",
            "align_content": null,
            "align_items": null,
            "align_self": null,
            "border": null,
            "bottom": null,
            "display": null,
            "flex": null,
            "flex_flow": null,
            "grid_area": null,
            "grid_auto_columns": null,
            "grid_auto_flow": null,
            "grid_auto_rows": null,
            "grid_column": null,
            "grid_gap": null,
            "grid_row": null,
            "grid_template_areas": null,
            "grid_template_columns": null,
            "grid_template_rows": null,
            "height": null,
            "justify_content": null,
            "justify_items": null,
            "left": null,
            "margin": null,
            "max_height": null,
            "max_width": null,
            "min_height": null,
            "min_width": null,
            "object_fit": null,
            "object_position": null,
            "order": null,
            "overflow": null,
            "overflow_x": null,
            "overflow_y": null,
            "padding": null,
            "right": null,
            "top": null,
            "visibility": null,
            "width": null
          }
        },
        "64f0a70f214a46718e82813478d53b02": {
          "model_module": "@jupyter-widgets/controls",
          "model_name": "DescriptionStyleModel",
          "model_module_version": "1.5.0",
          "state": {
            "_model_module": "@jupyter-widgets/controls",
            "_model_module_version": "1.5.0",
            "_model_name": "DescriptionStyleModel",
            "_view_count": null,
            "_view_module": "@jupyter-widgets/base",
            "_view_module_version": "1.2.0",
            "_view_name": "StyleView",
            "description_width": ""
          }
        },
        "f268f816e93a46728aa5b897c8dfecd2": {
          "model_module": "@jupyter-widgets/controls",
          "model_name": "HBoxModel",
          "model_module_version": "1.5.0",
          "state": {
            "_dom_classes": [],
            "_model_module": "@jupyter-widgets/controls",
            "_model_module_version": "1.5.0",
            "_model_name": "HBoxModel",
            "_view_count": null,
            "_view_module": "@jupyter-widgets/controls",
            "_view_module_version": "1.5.0",
            "_view_name": "HBoxView",
            "box_style": "",
            "children": [
              "IPY_MODEL_b0144e105c0e4ce886c32dfb1e78683c",
              "IPY_MODEL_eff9b1487f1543efaddcbdd84484a0a0",
              "IPY_MODEL_d81de1a60ec54c0eb3af7957d7c1ed16"
            ],
            "layout": "IPY_MODEL_b9bc441b96b84d6f83f2a76f82f23a6b"
          }
        },
        "b0144e105c0e4ce886c32dfb1e78683c": {
          "model_module": "@jupyter-widgets/controls",
          "model_name": "HTMLModel",
          "model_module_version": "1.5.0",
          "state": {
            "_dom_classes": [],
            "_model_module": "@jupyter-widgets/controls",
            "_model_module_version": "1.5.0",
            "_model_name": "HTMLModel",
            "_view_count": null,
            "_view_module": "@jupyter-widgets/controls",
            "_view_module_version": "1.5.0",
            "_view_name": "HTMLView",
            "description": "",
            "description_tooltip": null,
            "layout": "IPY_MODEL_db9ad2481fdf4c4380c051ed93f0d678",
            "placeholder": "​",
            "style": "IPY_MODEL_4c015ab1b3374765b2df76969b149c03",
            "value": "100%"
          }
        },
        "eff9b1487f1543efaddcbdd84484a0a0": {
          "model_module": "@jupyter-widgets/controls",
          "model_name": "FloatProgressModel",
          "model_module_version": "1.5.0",
          "state": {
            "_dom_classes": [],
            "_model_module": "@jupyter-widgets/controls",
            "_model_module_version": "1.5.0",
            "_model_name": "FloatProgressModel",
            "_view_count": null,
            "_view_module": "@jupyter-widgets/controls",
            "_view_module_version": "1.5.0",
            "_view_name": "ProgressView",
            "bar_style": "success",
            "description": "",
            "description_tooltip": null,
            "layout": "IPY_MODEL_1604ecddb4cc4916aab0bb973ac18d5a",
            "max": 5148,
            "min": 0,
            "orientation": "horizontal",
            "style": "IPY_MODEL_e22d1662ca4d4d2b9d75f8cdafa0f01a",
            "value": 5148
          }
        },
        "d81de1a60ec54c0eb3af7957d7c1ed16": {
          "model_module": "@jupyter-widgets/controls",
          "model_name": "HTMLModel",
          "model_module_version": "1.5.0",
          "state": {
            "_dom_classes": [],
            "_model_module": "@jupyter-widgets/controls",
            "_model_module_version": "1.5.0",
            "_model_name": "HTMLModel",
            "_view_count": null,
            "_view_module": "@jupyter-widgets/controls",
            "_view_module_version": "1.5.0",
            "_view_name": "HTMLView",
            "description": "",
            "description_tooltip": null,
            "layout": "IPY_MODEL_a18e75a8c1634731a99889e1ba420e59",
            "placeholder": "​",
            "style": "IPY_MODEL_777706b188d7428cb9db60b1cda0df5b",
            "value": " 5148/5148 [00:00&lt;00:00, 284179.95it/s]"
          }
        },
        "b9bc441b96b84d6f83f2a76f82f23a6b": {
          "model_module": "@jupyter-widgets/base",
          "model_name": "LayoutModel",
          "model_module_version": "1.2.0",
          "state": {
            "_model_module": "@jupyter-widgets/base",
            "_model_module_version": "1.2.0",
            "_model_name": "LayoutModel",
            "_view_count": null,
            "_view_module": "@jupyter-widgets/base",
            "_view_module_version": "1.2.0",
            "_view_name": "LayoutView",
            "align_content": null,
            "align_items": null,
            "align_self": null,
            "border": null,
            "bottom": null,
            "display": null,
            "flex": null,
            "flex_flow": null,
            "grid_area": null,
            "grid_auto_columns": null,
            "grid_auto_flow": null,
            "grid_auto_rows": null,
            "grid_column": null,
            "grid_gap": null,
            "grid_row": null,
            "grid_template_areas": null,
            "grid_template_columns": null,
            "grid_template_rows": null,
            "height": null,
            "justify_content": null,
            "justify_items": null,
            "left": null,
            "margin": null,
            "max_height": null,
            "max_width": null,
            "min_height": null,
            "min_width": null,
            "object_fit": null,
            "object_position": null,
            "order": null,
            "overflow": null,
            "overflow_x": null,
            "overflow_y": null,
            "padding": null,
            "right": null,
            "top": null,
            "visibility": null,
            "width": null
          }
        },
        "db9ad2481fdf4c4380c051ed93f0d678": {
          "model_module": "@jupyter-widgets/base",
          "model_name": "LayoutModel",
          "model_module_version": "1.2.0",
          "state": {
            "_model_module": "@jupyter-widgets/base",
            "_model_module_version": "1.2.0",
            "_model_name": "LayoutModel",
            "_view_count": null,
            "_view_module": "@jupyter-widgets/base",
            "_view_module_version": "1.2.0",
            "_view_name": "LayoutView",
            "align_content": null,
            "align_items": null,
            "align_self": null,
            "border": null,
            "bottom": null,
            "display": null,
            "flex": null,
            "flex_flow": null,
            "grid_area": null,
            "grid_auto_columns": null,
            "grid_auto_flow": null,
            "grid_auto_rows": null,
            "grid_column": null,
            "grid_gap": null,
            "grid_row": null,
            "grid_template_areas": null,
            "grid_template_columns": null,
            "grid_template_rows": null,
            "height": null,
            "justify_content": null,
            "justify_items": null,
            "left": null,
            "margin": null,
            "max_height": null,
            "max_width": null,
            "min_height": null,
            "min_width": null,
            "object_fit": null,
            "object_position": null,
            "order": null,
            "overflow": null,
            "overflow_x": null,
            "overflow_y": null,
            "padding": null,
            "right": null,
            "top": null,
            "visibility": null,
            "width": null
          }
        },
        "4c015ab1b3374765b2df76969b149c03": {
          "model_module": "@jupyter-widgets/controls",
          "model_name": "DescriptionStyleModel",
          "model_module_version": "1.5.0",
          "state": {
            "_model_module": "@jupyter-widgets/controls",
            "_model_module_version": "1.5.0",
            "_model_name": "DescriptionStyleModel",
            "_view_count": null,
            "_view_module": "@jupyter-widgets/base",
            "_view_module_version": "1.2.0",
            "_view_name": "StyleView",
            "description_width": ""
          }
        },
        "1604ecddb4cc4916aab0bb973ac18d5a": {
          "model_module": "@jupyter-widgets/base",
          "model_name": "LayoutModel",
          "model_module_version": "1.2.0",
          "state": {
            "_model_module": "@jupyter-widgets/base",
            "_model_module_version": "1.2.0",
            "_model_name": "LayoutModel",
            "_view_count": null,
            "_view_module": "@jupyter-widgets/base",
            "_view_module_version": "1.2.0",
            "_view_name": "LayoutView",
            "align_content": null,
            "align_items": null,
            "align_self": null,
            "border": null,
            "bottom": null,
            "display": null,
            "flex": null,
            "flex_flow": null,
            "grid_area": null,
            "grid_auto_columns": null,
            "grid_auto_flow": null,
            "grid_auto_rows": null,
            "grid_column": null,
            "grid_gap": null,
            "grid_row": null,
            "grid_template_areas": null,
            "grid_template_columns": null,
            "grid_template_rows": null,
            "height": null,
            "justify_content": null,
            "justify_items": null,
            "left": null,
            "margin": null,
            "max_height": null,
            "max_width": null,
            "min_height": null,
            "min_width": null,
            "object_fit": null,
            "object_position": null,
            "order": null,
            "overflow": null,
            "overflow_x": null,
            "overflow_y": null,
            "padding": null,
            "right": null,
            "top": null,
            "visibility": null,
            "width": null
          }
        },
        "e22d1662ca4d4d2b9d75f8cdafa0f01a": {
          "model_module": "@jupyter-widgets/controls",
          "model_name": "ProgressStyleModel",
          "model_module_version": "1.5.0",
          "state": {
            "_model_module": "@jupyter-widgets/controls",
            "_model_module_version": "1.5.0",
            "_model_name": "ProgressStyleModel",
            "_view_count": null,
            "_view_module": "@jupyter-widgets/base",
            "_view_module_version": "1.2.0",
            "_view_name": "StyleView",
            "bar_color": null,
            "description_width": ""
          }
        },
        "a18e75a8c1634731a99889e1ba420e59": {
          "model_module": "@jupyter-widgets/base",
          "model_name": "LayoutModel",
          "model_module_version": "1.2.0",
          "state": {
            "_model_module": "@jupyter-widgets/base",
            "_model_module_version": "1.2.0",
            "_model_name": "LayoutModel",
            "_view_count": null,
            "_view_module": "@jupyter-widgets/base",
            "_view_module_version": "1.2.0",
            "_view_name": "LayoutView",
            "align_content": null,
            "align_items": null,
            "align_self": null,
            "border": null,
            "bottom": null,
            "display": null,
            "flex": null,
            "flex_flow": null,
            "grid_area": null,
            "grid_auto_columns": null,
            "grid_auto_flow": null,
            "grid_auto_rows": null,
            "grid_column": null,
            "grid_gap": null,
            "grid_row": null,
            "grid_template_areas": null,
            "grid_template_columns": null,
            "grid_template_rows": null,
            "height": null,
            "justify_content": null,
            "justify_items": null,
            "left": null,
            "margin": null,
            "max_height": null,
            "max_width": null,
            "min_height": null,
            "min_width": null,
            "object_fit": null,
            "object_position": null,
            "order": null,
            "overflow": null,
            "overflow_x": null,
            "overflow_y": null,
            "padding": null,
            "right": null,
            "top": null,
            "visibility": null,
            "width": null
          }
        },
        "777706b188d7428cb9db60b1cda0df5b": {
          "model_module": "@jupyter-widgets/controls",
          "model_name": "DescriptionStyleModel",
          "model_module_version": "1.5.0",
          "state": {
            "_model_module": "@jupyter-widgets/controls",
            "_model_module_version": "1.5.0",
            "_model_name": "DescriptionStyleModel",
            "_view_count": null,
            "_view_module": "@jupyter-widgets/base",
            "_view_module_version": "1.2.0",
            "_view_name": "StyleView",
            "description_width": ""
          }
        }
      }
    }
  },
  "nbformat": 4,
  "nbformat_minor": 0
}