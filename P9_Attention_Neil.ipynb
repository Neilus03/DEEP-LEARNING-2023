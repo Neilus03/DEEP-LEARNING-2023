{
  "cells": [
    {
      "cell_type": "markdown",
      "metadata": {
        "id": "view-in-github",
        "colab_type": "text"
      },
      "source": [
        "<a href=\"https://colab.research.google.com/github/Neilus03/DEEP-LEARNING-2023/blob/main/P9_Attention_Neil.ipynb\" target=\"_parent\"><img src=\"https://colab.research.google.com/assets/colab-badge.svg\" alt=\"Open In Colab\"/></a>"
      ]
    },
    {
      "cell_type": "markdown",
      "metadata": {
        "id": "-JGr-h1xvTOZ"
      },
      "source": [
        "# MNIST Simple Pointer Network\n",
        "\n",
        "In this notebook we will learn how to create a simple [Pointer Network](https://arxiv.org/abs/1506.03134) (Vinyals et al. 2015) for solving a dummy task on the MNIST dataset.\n",
        "\n",
        "A Pointer Network uses the **attention mechanism’s** output to model the conditional probability of each element on its input. This can be extremely useful in tasks that require selecting one (or more) elements of the input sequence/set to be solved.\n",
        "\n",
        "In this notebook we will play with a simple Pointer net to solve the following task: Given an MNIST image with a (query) digit we want our model to find the image that contains the consecutive digit to the query image among a set of input images. For example, imagine we use an image with the digit \"5\" as query and let the input of the model be a set of 10 images with different digits, the output of our model must be a probability distribution over those 10 images indicating the presence or not of the digit \"6\" in each of them."
      ]
    },
    {
      "cell_type": "code",
      "execution_count": 2,
      "metadata": {
        "colab": {
          "base_uri": "https://localhost:8080/"
        },
        "id": "h4Z7-Wm7_5K6",
        "outputId": "cd8aa2d4-c109-4149-e9f1-70392d65c9cb"
      },
      "outputs": [
        {
          "output_type": "stream",
          "name": "stdout",
          "text": [
            "PyTorch Version:  2.0.0+cu118\n"
          ]
        }
      ],
      "source": [
        "import torch\n",
        "import torchvision\n",
        "import torch.nn as nn\n",
        "import torch.optim as optim\n",
        "import numpy as np\n",
        "from torch.utils.data import Dataset, DataLoader\n",
        "\n",
        "import matplotlib.pyplot as plt\n",
        "from collections import Counter\n",
        "import time\n",
        "import os\n",
        "import copy\n",
        "print(\"PyTorch Version: \",torch.__version__)"
      ]
    },
    {
      "cell_type": "code",
      "execution_count": 3,
      "metadata": {
        "id": "RNJh2q4lQGYF",
        "colab": {
          "base_uri": "https://localhost:8080/"
        },
        "outputId": "702e1dc1-7c70-4974-acfe-45963382a718"
      },
      "outputs": [
        {
          "output_type": "stream",
          "name": "stdout",
          "text": [
            "Using device: cuda\n"
          ]
        }
      ],
      "source": [
        "#If this cell fails you need to change the runtime of your colab notebook to GPU\n",
        "# Go to Runtime -> Change Runtime Type and select GPU\n",
        "assert torch.cuda.is_available(), \"GPU is not enabled\"\n",
        "\n",
        "#  use gpu if available\n",
        "device = torch.device(\"cuda\" if torch.cuda.is_available() else \"cpu\")\n",
        "print(\"Using device:\", device)"
      ]
    },
    {
      "cell_type": "markdown",
      "metadata": {
        "id": "CyM0DXter9Mp"
      },
      "source": [
        "### Create the dataset\n",
        "\n",
        "Let's start creating a Dataset class to understand better the task we want to solve. Each sample in out dataset will be formed by:\n",
        "\n",
        "* a query image\n",
        "* a set of 10 images, 9 of them selected randomly (distractors) and one selected as the consecutive digit of the digit in the query image.\n",
        "* the ground truth: a 10-D one hot vector indicating the position of the image we want our model to select (\"point to\")."
      ]
    },
    {
      "cell_type": "code",
      "execution_count": 4,
      "metadata": {
        "id": "XksdVS7GHWw0"
      },
      "outputs": [],
      "source": [
        "class MNISTAttentionDataset(Dataset):\n",
        "    \"\"\"MNIST attention toy dataset.\"\"\"\n",
        "\n",
        "    def __init__(self, num_inputs, train=True):\n",
        "        \"\"\"\n",
        "        Args:\n",
        "            num_inputs (int) - The number of images in the input of our model.\n",
        "            train (bool, optional) – If True, creates dataset from MNIST training\n",
        "                samples, otherwise from test\n",
        "        \"\"\"\n",
        "        \n",
        "        self.num_inputs = num_inputs\n",
        "        self.mnist = torchvision.datasets.MNIST('../data', train=train, download=True)\n",
        "        \n",
        "        # dict with samples for each class label\n",
        "        self.data = {}\n",
        "        for label in range(10):\n",
        "            #Collect in separate lists the different digits, and normalise values to [0, 1]\n",
        "            self.data[label] = self.mnist.data[self.mnist.targets == label] / 255.0\n",
        "\n",
        "        \n",
        "\n",
        "    def __len__(self):\n",
        "        # The length makes little sense here, as we generate samples dynamically\n",
        "        # Here we return the number of images originally in the dataset\n",
        "        return self.mnist.data.shape[0]\n",
        "\n",
        "    def __getitem__(self, idx):\n",
        "        \"\"\"\n",
        "        Args:\n",
        "            idx (int) - an index indicating which digit should be used as query\n",
        "        \"\"\"\n",
        "        c = self.mnist.targets[idx].item()     # Find out which is the class of the digit requested\n",
        "        query = self.mnist.data[idx].flatten() / 255 # Get the data for the digit requested\n",
        "\n",
        "        correct_pos = np.random.randint(0, self.num_inputs) # Decide on a random position where the correct answer will be\n",
        "        \n",
        "        inputs = np.zeros((self.num_inputs, 784)) # Create an array to hold the inputs (from which we have to select one)\n",
        "        for j in range(self.num_inputs):\n",
        "            if j == correct_pos: # In the correct position, place a random digit that comes from the c+1 class\n",
        "                idx = np.random.randint(0,self.data[(c+1)%10].shape[0])\n",
        "                inputs[j,:] = self.data[(c+1)%10][idx,:].flatten()\n",
        "            else: # In the rest of the positions, place random digits that come from the rest of the classes\n",
        "                c_distractor = np.random.choice([n for n in [0,1,2,3,4,5,6,7,8,9] if n!=(c+1)%10])\n",
        "                idx = np.random.randint(0,self.data[c_distractor].shape[0])\n",
        "                inputs[j,:] = self.data[c_distractor][idx,:].flatten()\n",
        "            \n",
        "        sample = {'x': inputs, 'query': query, 'y': correct_pos}\n",
        "\n",
        "        return sample"
      ]
    },
    {
      "cell_type": "code",
      "execution_count": 5,
      "metadata": {
        "id": "hL2kwN-kpjUc",
        "colab": {
          "base_uri": "https://localhost:8080/"
        },
        "outputId": "05c38c2f-df4f-4ee1-a022-1172c815e4ca"
      },
      "outputs": [
        {
          "output_type": "stream",
          "name": "stdout",
          "text": [
            "Downloading http://yann.lecun.com/exdb/mnist/train-images-idx3-ubyte.gz\n",
            "Downloading http://yann.lecun.com/exdb/mnist/train-images-idx3-ubyte.gz to ../data/MNIST/raw/train-images-idx3-ubyte.gz\n"
          ]
        },
        {
          "output_type": "stream",
          "name": "stderr",
          "text": [
            "100%|██████████| 9912422/9912422 [00:00<00:00, 349754870.78it/s]"
          ]
        },
        {
          "output_type": "stream",
          "name": "stdout",
          "text": [
            "Extracting ../data/MNIST/raw/train-images-idx3-ubyte.gz to ../data/MNIST/raw\n"
          ]
        },
        {
          "output_type": "stream",
          "name": "stderr",
          "text": [
            "\n"
          ]
        },
        {
          "output_type": "stream",
          "name": "stdout",
          "text": [
            "\n",
            "Downloading http://yann.lecun.com/exdb/mnist/train-labels-idx1-ubyte.gz\n",
            "Downloading http://yann.lecun.com/exdb/mnist/train-labels-idx1-ubyte.gz to ../data/MNIST/raw/train-labels-idx1-ubyte.gz\n"
          ]
        },
        {
          "output_type": "stream",
          "name": "stderr",
          "text": [
            "100%|██████████| 28881/28881 [00:00<00:00, 117039317.70it/s]\n"
          ]
        },
        {
          "output_type": "stream",
          "name": "stdout",
          "text": [
            "Extracting ../data/MNIST/raw/train-labels-idx1-ubyte.gz to ../data/MNIST/raw\n",
            "\n",
            "Downloading http://yann.lecun.com/exdb/mnist/t10k-images-idx3-ubyte.gz\n",
            "Downloading http://yann.lecun.com/exdb/mnist/t10k-images-idx3-ubyte.gz to ../data/MNIST/raw/t10k-images-idx3-ubyte.gz\n"
          ]
        },
        {
          "output_type": "stream",
          "name": "stderr",
          "text": [
            "100%|██████████| 1648877/1648877 [00:00<00:00, 151641006.79it/s]\n"
          ]
        },
        {
          "output_type": "stream",
          "name": "stdout",
          "text": [
            "Extracting ../data/MNIST/raw/t10k-images-idx3-ubyte.gz to ../data/MNIST/raw\n",
            "\n",
            "Downloading http://yann.lecun.com/exdb/mnist/t10k-labels-idx1-ubyte.gz\n",
            "Downloading http://yann.lecun.com/exdb/mnist/t10k-labels-idx1-ubyte.gz to ../data/MNIST/raw/t10k-labels-idx1-ubyte.gz\n"
          ]
        },
        {
          "output_type": "stream",
          "name": "stderr",
          "text": [
            "100%|██████████| 4542/4542 [00:00<00:00, 11496999.86it/s]"
          ]
        },
        {
          "output_type": "stream",
          "name": "stdout",
          "text": [
            "Extracting ../data/MNIST/raw/t10k-labels-idx1-ubyte.gz to ../data/MNIST/raw\n",
            "\n"
          ]
        },
        {
          "output_type": "stream",
          "name": "stderr",
          "text": [
            "\n"
          ]
        }
      ],
      "source": [
        "num_inputs = 10\n",
        "\n",
        "train_dataset = MNISTAttentionDataset(num_inputs, train=True)\n",
        "test_dataset = MNISTAttentionDataset(num_inputs, train=False)\n",
        "\n",
        "train_loader = DataLoader(train_dataset, batch_size = 64, shuffle = True)\n",
        "test_loader  = DataLoader(test_dataset, batch_size = 1000, shuffle = True)"
      ]
    },
    {
      "cell_type": "markdown",
      "metadata": {
        "id": "RES5R0CMr3bE"
      },
      "source": [
        "### Visualize one training sample"
      ]
    },
    {
      "cell_type": "code",
      "execution_count": 15,
      "metadata": {
        "colab": {
          "base_uri": "https://localhost:8080/",
          "height": 174
        },
        "id": "fJY6zR_lqR41",
        "outputId": "daa4acaa-1168-423f-bc07-bb6ceaa38a26"
      },
      "outputs": [
        {
          "output_type": "stream",
          "name": "stdout",
          "text": [
            "Data: (10, 784), Query: torch.Size([784])\n"
          ]
        },
        {
          "output_type": "display_data",
          "data": {
            "text/plain": [
              "<Figure size 3300x300 with 11 Axes>"
            ],
            "image/png": "[encoded data removed]"
          },
          "metadata": {}
        }
      ],
      "source": [
        "sample = train_dataset[0]\n",
        "\n",
        "print(f\"Data: {sample['x'].shape}, Query: {sample['query'].shape}\")\n",
        "\n",
        "fig = plt.figure(figsize=(33, 3))\n",
        "plt.tight_layout()\n",
        "\n",
        "ax = plt.subplot(1, num_inputs + 1, 1)\n",
        "image = sample['query'].reshape(28,28)\n",
        "plt.imshow(image, cmap='gray')\n",
        "plt.plot([0,27,27,0,0], [0,0,27,27,0], c='blue') # Draw a blue box around the query sample\n",
        "ax.set_title('Query')\n",
        "ax.axis('off')\n",
        "\n",
        "for i in range(num_inputs):\n",
        "    ax = plt.subplot(1, num_inputs + 1, i+2)\n",
        "    #ax.set_title('Sample #{}'.format(i)) #I think we don't actuallly need this line bcs we'll br changing every subplot title later on. (neil)\n",
        "    ax.axis('off')\n",
        "    image = sample['x'][i].reshape(28,28)\n",
        "    plt.imshow(image, cmap='gray')\n",
        "    if i == sample['y']:\n",
        "        plt.plot([0,27,27,0,0], [0,0,27,27,0], c='green') # Draw a green box around the correct sample\n",
        "        ax.set_title('Target')\n",
        "    else:\n",
        "        plt.plot([0,27,27,0,0], [0,0,27,27,0], c='red') # Draw a blue box around the wrong sample\n",
        "        ax.set_title('Distractor #{}'.format(i))\n",
        "    ax.axis('off')\n",
        "\n",
        "plt.show()"
      ]
    },
    {
      "cell_type": "markdown",
      "metadata": {
        "id": "DVaMM-n2sFF6"
      },
      "source": [
        "### Create the model"
      ]
    },
    {
      "cell_type": "code",
      "execution_count": 16,
      "metadata": {
        "id": "BesD8B1BAW9u"
      },
      "outputs": [],
      "source": [
        "class AttentionModel(nn.Module):\n",
        "    def __init__(self, input_dim, num_inputs, hidden_dim):\n",
        "        super(AttentionModel, self).__init__()\n",
        "        self.hidden_dim = hidden_dim\n",
        "        self.num_inputs = num_inputs\n",
        "        self.input_dim  = input_dim\n",
        "\n",
        "        # Weights (Fully Connected layers) \n",
        "        self.fc_q = nn.Linear(input_dim, hidden_dim) # Query FC\n",
        "        self.fc_k = nn.Linear(input_dim, hidden_dim) # Keys FC. Here the input acts as the keys, and there is no value\n",
        "        self.fc_v = nn.Linear(hidden_dim, 1) # Values FC\n",
        "\n",
        "    def scoringAdditive(self, query, keys):\n",
        "        # Query is                                              (B X 1 X input_dim)\n",
        "        # Repeat (tile) the query so that it has the same size as the keys (input)\n",
        "        query = query.repeat(1, self.num_inputs, 1)           # (B X num_inputs X input_dim)\n",
        "        query = torch.tanh(self.fc_q(query))                  # (B X num_inputs X hidden_dim)\n",
        "\n",
        "        # Keys is                                               (B X num_inputs X input_dim)\n",
        "        keys = torch.tanh(self.fc_k(keys))                    # (B X num_inputs X hidden_dim)\n",
        "        \n",
        "        # Attention Score\n",
        "        score = torch.tanh(query + keys )                     # (B X num_inputs X hidden_dim)\n",
        "        score = self.fc_v(score)                              # (B X num_inputs X 1)        \n",
        "        return score\n",
        "\n",
        "    def forward(self, x, query):\n",
        "        query = query.unsqueeze(1) # (B x input_dim) -> (B x 1 x input_dim)\n",
        "        \n",
        "        # Calculate attention scores\n",
        "        output = self.scoringAdditive(query, x)\n",
        "        output = output.squeeze()       # (B x 1 x num_inputs) -> (B x num_inputs)\n",
        "        return output"
      ]
    },
    {
      "cell_type": "markdown",
      "metadata": {
        "id": "y_yCyvgg9Pbj"
      },
      "source": [
        "<font color=\"blue\">\n",
        "\n",
        "**QUESTION**: The Additive score gives logits that we should pass through a softmax to get the final attention weights. Why is there no softmax in the model above?</font>"
      ]
    },
    {
      "cell_type": "markdown",
      "metadata": {
        "id": "8uLOALkBPTei"
      },
      "source": [
        "---\n",
        "    \n",
        "**ANSWER**: Softmax is already implemented inside Pytorch´s `nn.CrossEntropyLoss()` function.\n",
        "\n",
        "---"
      ]
    },
    {
      "cell_type": "code",
      "execution_count": 17,
      "metadata": {
        "colab": {
          "base_uri": "https://localhost:8080/"
        },
        "id": "nsyUZE0lHJ5-",
        "outputId": "18990bb4-79dc-4b50-fff6-828bb321b4b3"
      },
      "outputs": [
        {
          "output_type": "stream",
          "name": "stdout",
          "text": [
            "AttentionModel(\n",
            "  (fc_q): Linear(in_features=784, out_features=256, bias=True)\n",
            "  (fc_k): Linear(in_features=784, out_features=256, bias=True)\n",
            "  (fc_v): Linear(in_features=256, out_features=1, bias=True)\n",
            ")\n"
          ]
        }
      ],
      "source": [
        "input_dim, num_inputs, hidden_dim = (784, 10, 256)\n",
        "\n",
        "model = AttentionModel(input_dim, num_inputs, hidden_dim)\n",
        "print(model)"
      ]
    },
    {
      "cell_type": "markdown",
      "metadata": {
        "id": "xmp0kuk2z3Rx"
      },
      "source": [
        "### Define the training method and train"
      ]
    },
    {
      "cell_type": "code",
      "execution_count": 18,
      "metadata": {
        "id": "6ZvGWqwDrc-V"
      },
      "outputs": [],
      "source": [
        "def train(model, device, train_loader, criterion, optimizer, epoch, log_interval = 100):\n",
        "    # Method to perform one epoch of training\n",
        "    model.train()\n",
        "    loss_values = []\n",
        "    \n",
        "    for batch_idx, sample_batched in enumerate(train_loader):\n",
        "        data = sample_batched['x'].float()\n",
        "        query = sample_batched['query'].float()\n",
        "        target = sample_batched['y']\n",
        "        #print(data.shape, query.shape)\n",
        "        data, query, target = data.to(device), query.to(device), target.to(device)\n",
        "        \n",
        "        optimizer.zero_grad()\n",
        "        output = model(data, query)\n",
        "        loss = criterion(output, target)\n",
        "        loss.backward()\n",
        "        optimizer.step()\n",
        "        \n",
        "        loss_values.append(loss.detach().cpu().item())        \n",
        "        if batch_idx % log_interval == 0:\n",
        "            print('Train Epoch: {} [{}/{} ({:.0f}%)]\\tLoss: {:.6f}'.format(\n",
        "                epoch, batch_idx * len(data), len(train_loader.dataset), 100. * batch_idx / len(train_loader), loss.item()))\n",
        "        \n",
        "    return loss_values"
      ]
    },
    {
      "cell_type": "code",
      "execution_count": 19,
      "metadata": {
        "colab": {
          "base_uri": "https://localhost:8080/"
        },
        "id": "L_ZTvDKRz9yx",
        "outputId": "fb0081f6-5949-47ea-97d1-7a5407accc14"
      },
      "outputs": [
        {
          "output_type": "stream",
          "name": "stdout",
          "text": [
            "Train Epoch: 1 [0/60000 (0%)]\tLoss: 2.295768\n",
            "Train Epoch: 1 [6400/60000 (11%)]\tLoss: 1.852105\n",
            "Train Epoch: 1 [12800/60000 (21%)]\tLoss: 1.203758\n",
            "Train Epoch: 1 [19200/60000 (32%)]\tLoss: 1.072622\n",
            "Train Epoch: 1 [25600/60000 (43%)]\tLoss: 0.970035\n",
            "Train Epoch: 1 [32000/60000 (53%)]\tLoss: 0.710822\n",
            "Train Epoch: 1 [38400/60000 (64%)]\tLoss: 0.762293\n",
            "Train Epoch: 1 [44800/60000 (75%)]\tLoss: 0.672370\n",
            "Train Epoch: 1 [51200/60000 (85%)]\tLoss: 0.493106\n",
            "Train Epoch: 1 [57600/60000 (96%)]\tLoss: 0.551306\n",
            "Train Epoch: 2 [0/60000 (0%)]\tLoss: 0.469703\n",
            "Train Epoch: 2 [6400/60000 (11%)]\tLoss: 0.343836\n",
            "Train Epoch: 2 [12800/60000 (21%)]\tLoss: 0.554193\n",
            "Train Epoch: 2 [19200/60000 (32%)]\tLoss: 0.409981\n",
            "Train Epoch: 2 [25600/60000 (43%)]\tLoss: 0.440128\n",
            "Train Epoch: 2 [32000/60000 (53%)]\tLoss: 0.505597\n",
            "Train Epoch: 2 [38400/60000 (64%)]\tLoss: 0.490030\n",
            "Train Epoch: 2 [44800/60000 (75%)]\tLoss: 0.430284\n",
            "Train Epoch: 2 [51200/60000 (85%)]\tLoss: 0.398265\n",
            "Train Epoch: 2 [57600/60000 (96%)]\tLoss: 0.182586\n",
            "Train Epoch: 3 [0/60000 (0%)]\tLoss: 0.407591\n",
            "Train Epoch: 3 [6400/60000 (11%)]\tLoss: 0.534702\n",
            "Train Epoch: 3 [12800/60000 (21%)]\tLoss: 0.437954\n",
            "Train Epoch: 3 [19200/60000 (32%)]\tLoss: 0.441831\n",
            "Train Epoch: 3 [25600/60000 (43%)]\tLoss: 0.347080\n",
            "Train Epoch: 3 [32000/60000 (53%)]\tLoss: 0.229071\n",
            "Train Epoch: 3 [38400/60000 (64%)]\tLoss: 0.308800\n",
            "Train Epoch: 3 [44800/60000 (75%)]\tLoss: 0.429427\n",
            "Train Epoch: 3 [51200/60000 (85%)]\tLoss: 0.309778\n",
            "Train Epoch: 3 [57600/60000 (96%)]\tLoss: 0.258600\n",
            "Train Epoch: 4 [0/60000 (0%)]\tLoss: 0.333811\n",
            "Train Epoch: 4 [6400/60000 (11%)]\tLoss: 0.241316\n",
            "Train Epoch: 4 [12800/60000 (21%)]\tLoss: 0.310749\n",
            "Train Epoch: 4 [19200/60000 (32%)]\tLoss: 0.337274\n",
            "Train Epoch: 4 [25600/60000 (43%)]\tLoss: 0.281596\n",
            "Train Epoch: 4 [32000/60000 (53%)]\tLoss: 0.533809\n",
            "Train Epoch: 4 [38400/60000 (64%)]\tLoss: 0.343226\n",
            "Train Epoch: 4 [44800/60000 (75%)]\tLoss: 0.266325\n",
            "Train Epoch: 4 [51200/60000 (85%)]\tLoss: 0.341105\n",
            "Train Epoch: 4 [57600/60000 (96%)]\tLoss: 0.311969\n",
            "Train Epoch: 5 [0/60000 (0%)]\tLoss: 0.279253\n",
            "Train Epoch: 5 [6400/60000 (11%)]\tLoss: 0.240882\n",
            "Train Epoch: 5 [12800/60000 (21%)]\tLoss: 0.264080\n",
            "Train Epoch: 5 [19200/60000 (32%)]\tLoss: 0.223959\n",
            "Train Epoch: 5 [25600/60000 (43%)]\tLoss: 0.285911\n",
            "Train Epoch: 5 [32000/60000 (53%)]\tLoss: 0.286341\n",
            "Train Epoch: 5 [38400/60000 (64%)]\tLoss: 0.149918\n",
            "Train Epoch: 5 [44800/60000 (75%)]\tLoss: 0.276744\n",
            "Train Epoch: 5 [51200/60000 (85%)]\tLoss: 0.357081\n",
            "Train Epoch: 5 [57600/60000 (96%)]\tLoss: 0.405932\n",
            "Train Epoch: 6 [0/60000 (0%)]\tLoss: 0.253374\n",
            "Train Epoch: 6 [6400/60000 (11%)]\tLoss: 0.144861\n",
            "Train Epoch: 6 [12800/60000 (21%)]\tLoss: 0.155866\n",
            "Train Epoch: 6 [19200/60000 (32%)]\tLoss: 0.304462\n",
            "Train Epoch: 6 [25600/60000 (43%)]\tLoss: 0.349876\n",
            "Train Epoch: 6 [32000/60000 (53%)]\tLoss: 0.387707\n",
            "Train Epoch: 6 [38400/60000 (64%)]\tLoss: 0.202491\n",
            "Train Epoch: 6 [44800/60000 (75%)]\tLoss: 0.443256\n",
            "Train Epoch: 6 [51200/60000 (85%)]\tLoss: 0.231490\n",
            "Train Epoch: 6 [57600/60000 (96%)]\tLoss: 0.176455\n",
            "Train Epoch: 7 [0/60000 (0%)]\tLoss: 0.413957\n",
            "Train Epoch: 7 [6400/60000 (11%)]\tLoss: 0.303271\n",
            "Train Epoch: 7 [12800/60000 (21%)]\tLoss: 0.264507\n",
            "Train Epoch: 7 [19200/60000 (32%)]\tLoss: 0.410458\n",
            "Train Epoch: 7 [25600/60000 (43%)]\tLoss: 0.261198\n",
            "Train Epoch: 7 [32000/60000 (53%)]\tLoss: 0.417429\n",
            "Train Epoch: 7 [38400/60000 (64%)]\tLoss: 0.223755\n",
            "Train Epoch: 7 [44800/60000 (75%)]\tLoss: 0.197846\n",
            "Train Epoch: 7 [51200/60000 (85%)]\tLoss: 0.408818\n",
            "Train Epoch: 7 [57600/60000 (96%)]\tLoss: 0.275536\n",
            "Train Epoch: 8 [0/60000 (0%)]\tLoss: 0.271958\n",
            "Train Epoch: 8 [6400/60000 (11%)]\tLoss: 0.152152\n",
            "Train Epoch: 8 [12800/60000 (21%)]\tLoss: 0.194855\n",
            "Train Epoch: 8 [19200/60000 (32%)]\tLoss: 0.173795\n",
            "Train Epoch: 8 [25600/60000 (43%)]\tLoss: 0.368013\n",
            "Train Epoch: 8 [32000/60000 (53%)]\tLoss: 0.211147\n",
            "Train Epoch: 8 [38400/60000 (64%)]\tLoss: 0.160959\n",
            "Train Epoch: 8 [44800/60000 (75%)]\tLoss: 0.210960\n",
            "Train Epoch: 8 [51200/60000 (85%)]\tLoss: 0.244987\n",
            "Train Epoch: 8 [57600/60000 (96%)]\tLoss: 0.218573\n",
            "Train Epoch: 9 [0/60000 (0%)]\tLoss: 0.276483\n",
            "Train Epoch: 9 [6400/60000 (11%)]\tLoss: 0.265964\n",
            "Train Epoch: 9 [12800/60000 (21%)]\tLoss: 0.224261\n",
            "Train Epoch: 9 [19200/60000 (32%)]\tLoss: 0.230225\n",
            "Train Epoch: 9 [25600/60000 (43%)]\tLoss: 0.257866\n",
            "Train Epoch: 9 [32000/60000 (53%)]\tLoss: 0.231157\n",
            "Train Epoch: 9 [38400/60000 (64%)]\tLoss: 0.110434\n",
            "Train Epoch: 9 [44800/60000 (75%)]\tLoss: 0.342055\n",
            "Train Epoch: 9 [51200/60000 (85%)]\tLoss: 0.140031\n",
            "Train Epoch: 9 [57600/60000 (96%)]\tLoss: 0.053225\n",
            "Train Epoch: 10 [0/60000 (0%)]\tLoss: 0.171594\n",
            "Train Epoch: 10 [6400/60000 (11%)]\tLoss: 0.183162\n",
            "Train Epoch: 10 [12800/60000 (21%)]\tLoss: 0.367941\n",
            "Train Epoch: 10 [19200/60000 (32%)]\tLoss: 0.197953\n",
            "Train Epoch: 10 [25600/60000 (43%)]\tLoss: 0.237259\n",
            "Train Epoch: 10 [32000/60000 (53%)]\tLoss: 0.296837\n",
            "Train Epoch: 10 [38400/60000 (64%)]\tLoss: 0.176179\n",
            "Train Epoch: 10 [44800/60000 (75%)]\tLoss: 0.125982\n",
            "Train Epoch: 10 [51200/60000 (85%)]\tLoss: 0.295638\n",
            "Train Epoch: 10 [57600/60000 (96%)]\tLoss: 0.164124\n"
          ]
        }
      ],
      "source": [
        "model = model.to(device)\n",
        "\n",
        "optimizer = optim.Adam(model.parameters())\n",
        "\n",
        "criterion = nn.CrossEntropyLoss()\n",
        "\n",
        "epochs = 10\n",
        "\n",
        "loss_history = []\n",
        "for epoch in range(1, epochs + 1):\n",
        "    loss_values = train(model, device, train_loader, criterion, optimizer, epoch)\n",
        "    loss_history += loss_values"
      ]
    },
    {
      "cell_type": "code",
      "execution_count": 20,
      "metadata": {
        "id": "V1VFBe_Y0Cxx",
        "colab": {
          "base_uri": "https://localhost:8080/",
          "height": 453
        },
        "outputId": "c03f18c8-3fea-46d1-b589-b4300e78ab26"
      },
      "outputs": [
        {
          "output_type": "execute_result",
          "data": {
            "text/plain": [
              "[<matplotlib.lines.Line2D at 0x7f16fe67e7d0>]"
            ]
          },
          "metadata": {},
          "execution_count": 20
        },
        {
          "output_type": "display_data",
          "data": {
            "text/plain": [
              "<Figure size 640x480 with 1 Axes>"
            ],
            "image/png": "[encoded data removed]"
          },
          "metadata": {}
        }
      ],
      "source": [
        "plt.plot(loss_history)"
      ]
    },
    {
      "cell_type": "markdown",
      "metadata": {
        "id": "jONlgxyaEwC6"
      },
      "source": [
        "### Evaluate the trained model"
      ]
    },
    {
      "cell_type": "code",
      "execution_count": 21,
      "metadata": {
        "id": "izgtCdk5DV01"
      },
      "outputs": [],
      "source": [
        "def evaluate(model, device, test_loader):\n",
        "    model.eval()\n",
        "    total = 0.\n",
        "    ok = 0.\n",
        "    for batch_idx, sample_batched in enumerate(test_loader):\n",
        "        data = sample_batched['x'].float()\n",
        "        query = sample_batched['query'].float()\n",
        "        target = sample_batched['y'].numpy()\n",
        "        data, query = data.to(device), query.to(device)\n",
        "        \n",
        "        output = model(data, query)\n",
        "        pred = np.argmax(output.detach().cpu().numpy(), axis=1)\n",
        "       \n",
        "        ok += np.sum(pred == target)\n",
        "        total += len(test_loader)\n",
        "                \n",
        "    print('Accuracy = ', ok/total)"
      ]
    },
    {
      "cell_type": "code",
      "execution_count": 22,
      "metadata": {
        "id": "JYQGuAXpGNU7",
        "colab": {
          "base_uri": "https://localhost:8080/"
        },
        "outputId": "f81f203f-cd37-48a7-e6aa-9fb0b69fcbee"
      },
      "outputs": [
        {
          "output_type": "stream",
          "name": "stdout",
          "text": [
            "Accuracy =  91.47\n"
          ]
        }
      ],
      "source": [
        "evaluate(model, device, test_loader)"
      ]
    },
    {
      "cell_type": "markdown",
      "metadata": {
        "id": "CaOoDxjhhjxz"
      },
      "source": [
        "<font color=\"green\">\n",
        "\n",
        "**EXERCISE 1**: Starting from the previous model as a template, implement the Dot-product Attention scoring function and substitute the additive one we were using before. Retrain and evalute the model.</font>\n",
        "\n",
        "<font color=\"green\">\n",
        "\n",
        "> Hint: To transpose a tensor along specific dimensions you can use `torch.permute()`\n",
        "</font>\n",
        "\n",
        "\n",
        "<font color=\"green\">\n",
        "\n",
        "> Hint: To perform a batch matrix-matrix product, use the function `torch.bmm()` https://pytorch.org/docs/stable/generated/torch.bmm.html \n",
        "</font>"
      ]
    },
    {
      "cell_type": "markdown",
      "source": [
        "I will follow the dot product attention scoring function found on [`Attention is all you need`](https://arxiv.org/abs/1706.03762) paper. Is the following: \n",
        "\n",
        "`Attention(Q, K, V ) = softmax((Q * K.T) / √(dk)) * V` "
      ],
      "metadata": {
        "id": "2j_UTOu8iCZw"
      }
    },
    {
      "cell_type": "code",
      "execution_count": 45,
      "metadata": {
        "id": "Z9-3AYPRPTel"
      },
      "outputs": [],
      "source": [
        "# YOUR CODE HERE\n",
        "import torch.nn.functional as F\n",
        "\n",
        "class AttentionModelDOT(nn.Module):\n",
        "    def __init__(self, input_dim, num_inputs, hidden_dim):\n",
        "        super(AttentionModelDOT, self).__init__()\n",
        "        self.hidden_dim = hidden_dim\n",
        "        self.num_inputs = num_inputs\n",
        "        self.input_dim  = input_dim\n",
        "\n",
        "        # Weights (Fully Connected layers) \n",
        "        self.fc_q = nn.Linear(input_dim, hidden_dim) # Query FC\n",
        "        self.fc_k = nn.Linear(input_dim, hidden_dim) # Keys FC. Here the input acts as the keys, and there is no value\n",
        "        self.fc_v = nn.Linear(hidden_dim, 1) # Values FC\n",
        "\n",
        "    def scoringDotProduct(self, query, keys):\n",
        "        #YOUR CODE HERE \n",
        "        # Follow the formula: Attention(Q, K, V ) = softmax((Q * K.T) / √(dk)) * V\n",
        "        query = self.fc_q(query) # (B X 1 X hidden_dim) We only do this fc bcs torch.bmm() in the following step broadcasts automatically.\n",
        "\n",
        "        keys = self.fc_k(keys) # (B X num_inputs X hidden_dim) \n",
        "        \n",
        "        keys_T = keys.permute(0, 2, 1) #Transposing means to swap the shapes of the 2nd and 3rd dimensions \n",
        "                                       #(which are the dimensions of the array, not including the batch size) \n",
        "                                       #we pass from keys which was of shape (B X num_inputs X hidden_dim), to\n",
        "                                       #keys_T which is of (transpose) shape (B X hidden_dim X num_inputs)\n",
        "        \n",
        "        attention_score = torch.bmm(query, keys_T) #is like a dot product but is bmm(batch-matrix-matrix) because it handles the Batch size also\n",
        "        \n",
        "        attention_score = attention_score / (self.hidden_dim)**0.5 #Simplified formula (Not multiplied by V as the input acts as both the keys and the values.\n",
        "\n",
        "        return attention_score\n",
        "\n",
        "    def forward(self, x, query):\n",
        "        query = query.unsqueeze(1) # (B x input_dim) -> (B x 1 x input_dim)\n",
        "        \n",
        "        # Calculate attention scores\n",
        "        output = self.scoringDotProduct(query, x)\n",
        "\n",
        "        output = output.squeeze()       # (B x 1 x num_inputs) -> (B x num_inputs)\n",
        "        return output"
      ]
    },
    {
      "cell_type": "code",
      "source": [
        "input_dim, num_inputs, hidden_dim = (784, 10, 256)\n",
        "\n",
        "model = AttentionModelDOT(input_dim, num_inputs, hidden_dim)\n",
        "print(model)"
      ],
      "metadata": {
        "colab": {
          "base_uri": "https://localhost:8080/"
        },
        "id": "F_wVOqm-iBFQ",
        "outputId": "f5d6f15f-b3d3-46b9-94ad-3f24cf93b7a5"
      },
      "execution_count": 46,
      "outputs": [
        {
          "output_type": "stream",
          "name": "stdout",
          "text": [
            "AttentionModelDOT(\n",
            "  (fc_q): Linear(in_features=784, out_features=256, bias=True)\n",
            "  (fc_k): Linear(in_features=784, out_features=256, bias=True)\n",
            "  (fc_v): Linear(in_features=256, out_features=1, bias=True)\n",
            ")\n"
          ]
        }
      ]
    },
    {
      "cell_type": "code",
      "source": [
        "model = model.to(device)\n",
        "\n",
        "optimizer = optim.Adam(model.parameters())\n",
        "\n",
        "criterion = nn.CrossEntropyLoss()\n",
        "\n",
        "epochs = 10\n",
        "\n",
        "loss_history = []\n",
        "for epoch in range(1, epochs + 1):\n",
        "    loss_values = train(model, device, train_loader, criterion, optimizer, epoch)\n",
        "    loss_history += loss_values"
      ],
      "metadata": {
        "colab": {
          "base_uri": "https://localhost:8080/"
        },
        "id": "-TqsykfWpQVV",
        "outputId": "40d3b325-f48b-49c7-a14b-c8c133bad8bc"
      },
      "execution_count": 47,
      "outputs": [
        {
          "output_type": "stream",
          "name": "stdout",
          "text": [
            "Train Epoch: 1 [0/60000 (0%)]\tLoss: 2.302413\n",
            "Train Epoch: 1 [6400/60000 (11%)]\tLoss: 1.336045\n",
            "Train Epoch: 1 [12800/60000 (21%)]\tLoss: 1.086454\n",
            "Train Epoch: 1 [19200/60000 (32%)]\tLoss: 0.896068\n",
            "Train Epoch: 1 [25600/60000 (43%)]\tLoss: 1.120925\n",
            "Train Epoch: 1 [32000/60000 (53%)]\tLoss: 0.950565\n",
            "Train Epoch: 1 [38400/60000 (64%)]\tLoss: 0.679624\n",
            "Train Epoch: 1 [44800/60000 (75%)]\tLoss: 0.812967\n",
            "Train Epoch: 1 [51200/60000 (85%)]\tLoss: 1.193261\n",
            "Train Epoch: 1 [57600/60000 (96%)]\tLoss: 0.885585\n",
            "Train Epoch: 2 [0/60000 (0%)]\tLoss: 1.091221\n",
            "Train Epoch: 2 [6400/60000 (11%)]\tLoss: 0.966796\n",
            "Train Epoch: 2 [12800/60000 (21%)]\tLoss: 0.935020\n",
            "Train Epoch: 2 [19200/60000 (32%)]\tLoss: 1.198616\n",
            "Train Epoch: 2 [25600/60000 (43%)]\tLoss: 0.731553\n",
            "Train Epoch: 2 [32000/60000 (53%)]\tLoss: 0.909959\n",
            "Train Epoch: 2 [38400/60000 (64%)]\tLoss: 0.756174\n",
            "Train Epoch: 2 [44800/60000 (75%)]\tLoss: 0.941368\n",
            "Train Epoch: 2 [51200/60000 (85%)]\tLoss: 1.026990\n",
            "Train Epoch: 2 [57600/60000 (96%)]\tLoss: 0.810927\n",
            "Train Epoch: 3 [0/60000 (0%)]\tLoss: 0.994568\n",
            "Train Epoch: 3 [6400/60000 (11%)]\tLoss: 0.961327\n",
            "Train Epoch: 3 [12800/60000 (21%)]\tLoss: 1.256777\n",
            "Train Epoch: 3 [19200/60000 (32%)]\tLoss: 0.603669\n",
            "Train Epoch: 3 [25600/60000 (43%)]\tLoss: 0.740182\n",
            "Train Epoch: 3 [32000/60000 (53%)]\tLoss: 0.813902\n",
            "Train Epoch: 3 [38400/60000 (64%)]\tLoss: 0.951495\n",
            "Train Epoch: 3 [44800/60000 (75%)]\tLoss: 0.943445\n",
            "Train Epoch: 3 [51200/60000 (85%)]\tLoss: 0.683737\n",
            "Train Epoch: 3 [57600/60000 (96%)]\tLoss: 1.029561\n",
            "Train Epoch: 4 [0/60000 (0%)]\tLoss: 0.958114\n",
            "Train Epoch: 4 [6400/60000 (11%)]\tLoss: 0.755266\n",
            "Train Epoch: 4 [12800/60000 (21%)]\tLoss: 0.870252\n",
            "Train Epoch: 4 [19200/60000 (32%)]\tLoss: 0.950303\n",
            "Train Epoch: 4 [25600/60000 (43%)]\tLoss: 0.772801\n",
            "Train Epoch: 4 [32000/60000 (53%)]\tLoss: 0.724280\n",
            "Train Epoch: 4 [38400/60000 (64%)]\tLoss: 0.850625\n",
            "Train Epoch: 4 [44800/60000 (75%)]\tLoss: 0.760397\n",
            "Train Epoch: 4 [51200/60000 (85%)]\tLoss: 0.774368\n",
            "Train Epoch: 4 [57600/60000 (96%)]\tLoss: 0.827375\n",
            "Train Epoch: 5 [0/60000 (0%)]\tLoss: 0.714673\n",
            "Train Epoch: 5 [6400/60000 (11%)]\tLoss: 1.089619\n",
            "Train Epoch: 5 [12800/60000 (21%)]\tLoss: 1.097631\n",
            "Train Epoch: 5 [19200/60000 (32%)]\tLoss: 0.672667\n",
            "Train Epoch: 5 [25600/60000 (43%)]\tLoss: 1.042342\n",
            "Train Epoch: 5 [32000/60000 (53%)]\tLoss: 0.663193\n",
            "Train Epoch: 5 [38400/60000 (64%)]\tLoss: 0.880723\n",
            "Train Epoch: 5 [44800/60000 (75%)]\tLoss: 0.888823\n",
            "Train Epoch: 5 [51200/60000 (85%)]\tLoss: 0.646976\n",
            "Train Epoch: 5 [57600/60000 (96%)]\tLoss: 0.958568\n",
            "Train Epoch: 6 [0/60000 (0%)]\tLoss: 0.753615\n",
            "Train Epoch: 6 [6400/60000 (11%)]\tLoss: 0.907681\n",
            "Train Epoch: 6 [12800/60000 (21%)]\tLoss: 1.212122\n",
            "Train Epoch: 6 [19200/60000 (32%)]\tLoss: 0.871991\n",
            "Train Epoch: 6 [25600/60000 (43%)]\tLoss: 0.780297\n",
            "Train Epoch: 6 [32000/60000 (53%)]\tLoss: 0.728550\n",
            "Train Epoch: 6 [38400/60000 (64%)]\tLoss: 0.947936\n",
            "Train Epoch: 6 [44800/60000 (75%)]\tLoss: 0.718516\n",
            "Train Epoch: 6 [51200/60000 (85%)]\tLoss: 0.719587\n",
            "Train Epoch: 6 [57600/60000 (96%)]\tLoss: 0.967478\n",
            "Train Epoch: 7 [0/60000 (0%)]\tLoss: 0.722142\n",
            "Train Epoch: 7 [6400/60000 (11%)]\tLoss: 0.727805\n",
            "Train Epoch: 7 [12800/60000 (21%)]\tLoss: 0.985090\n",
            "Train Epoch: 7 [19200/60000 (32%)]\tLoss: 0.611707\n",
            "Train Epoch: 7 [25600/60000 (43%)]\tLoss: 1.011747\n",
            "Train Epoch: 7 [32000/60000 (53%)]\tLoss: 0.818391\n",
            "Train Epoch: 7 [38400/60000 (64%)]\tLoss: 0.984266\n",
            "Train Epoch: 7 [44800/60000 (75%)]\tLoss: 0.534913\n",
            "Train Epoch: 7 [51200/60000 (85%)]\tLoss: 0.619116\n",
            "Train Epoch: 7 [57600/60000 (96%)]\tLoss: 0.845988\n",
            "Train Epoch: 8 [0/60000 (0%)]\tLoss: 0.771731\n",
            "Train Epoch: 8 [6400/60000 (11%)]\tLoss: 0.941613\n",
            "Train Epoch: 8 [12800/60000 (21%)]\tLoss: 1.107191\n",
            "Train Epoch: 8 [19200/60000 (32%)]\tLoss: 0.778112\n",
            "Train Epoch: 8 [25600/60000 (43%)]\tLoss: 0.443756\n",
            "Train Epoch: 8 [32000/60000 (53%)]\tLoss: 0.926196\n",
            "Train Epoch: 8 [38400/60000 (64%)]\tLoss: 0.918274\n",
            "Train Epoch: 8 [44800/60000 (75%)]\tLoss: 1.161856\n",
            "Train Epoch: 8 [51200/60000 (85%)]\tLoss: 0.728918\n",
            "Train Epoch: 8 [57600/60000 (96%)]\tLoss: 0.899350\n",
            "Train Epoch: 9 [0/60000 (0%)]\tLoss: 0.740633\n",
            "Train Epoch: 9 [6400/60000 (11%)]\tLoss: 1.129637\n",
            "Train Epoch: 9 [12800/60000 (21%)]\tLoss: 0.685045\n",
            "Train Epoch: 9 [19200/60000 (32%)]\tLoss: 0.963816\n",
            "Train Epoch: 9 [25600/60000 (43%)]\tLoss: 0.761548\n",
            "Train Epoch: 9 [32000/60000 (53%)]\tLoss: 1.076398\n",
            "Train Epoch: 9 [38400/60000 (64%)]\tLoss: 0.844207\n",
            "Train Epoch: 9 [44800/60000 (75%)]\tLoss: 0.980086\n",
            "Train Epoch: 9 [51200/60000 (85%)]\tLoss: 1.000258\n",
            "Train Epoch: 9 [57600/60000 (96%)]\tLoss: 0.909940\n",
            "Train Epoch: 10 [0/60000 (0%)]\tLoss: 0.885722\n",
            "Train Epoch: 10 [6400/60000 (11%)]\tLoss: 1.102191\n",
            "Train Epoch: 10 [12800/60000 (21%)]\tLoss: 0.930860\n",
            "Train Epoch: 10 [19200/60000 (32%)]\tLoss: 0.732237\n",
            "Train Epoch: 10 [25600/60000 (43%)]\tLoss: 0.736282\n",
            "Train Epoch: 10 [32000/60000 (53%)]\tLoss: 0.805808\n",
            "Train Epoch: 10 [38400/60000 (64%)]\tLoss: 0.894055\n",
            "Train Epoch: 10 [44800/60000 (75%)]\tLoss: 0.820810\n",
            "Train Epoch: 10 [51200/60000 (85%)]\tLoss: 0.738225\n",
            "Train Epoch: 10 [57600/60000 (96%)]\tLoss: 0.559256\n"
          ]
        }
      ]
    },
    {
      "cell_type": "code",
      "source": [
        "plt.plot(loss_history)"
      ],
      "metadata": {
        "colab": {
          "base_uri": "https://localhost:8080/",
          "height": 448
        },
        "id": "8WPQ2M1Nq3Nz",
        "outputId": "905754a7-9f89-42cc-963e-a62d2e053584"
      },
      "execution_count": 40,
      "outputs": [
        {
          "output_type": "execute_result",
          "data": {
            "text/plain": [
              "[<matplotlib.lines.Line2D at 0x7f16972c0370>]"
            ]
          },
          "metadata": {},
          "execution_count": 40
        },
        {
          "output_type": "display_data",
          "data": {
            "text/plain": [
              "<Figure size 640x480 with 1 Axes>"
            ],
            "image/png": "[encoded data removed]"
          },
          "metadata": {}
        }
      ]
    },
    {
      "cell_type": "code",
      "source": [
        "evaluate(model, device, test_loader)"
      ],
      "metadata": {
        "colab": {
          "base_uri": "https://localhost:8080/"
        },
        "id": "zv0mOm63qKW1",
        "outputId": "4427d143-f347-4953-b10d-b02beaad5345"
      },
      "execution_count": 41,
      "outputs": [
        {
          "output_type": "stream",
          "name": "stdout",
          "text": [
            "Accuracy =  74.04\n"
          ]
        }
      ]
    },
    {
      "cell_type": "markdown",
      "source": [
        "We can see thaat accuracy decreased with the dot product scoring funciton and as an analysis I would say that this is due to model complexity. \n",
        "\n",
        "Additive attention uses non-linear activation functions (tanh in this case) and additional FC layers, which might allow it to capture more complex patterns in the data. Dot-product attention, on the other hand, uses a simpler linear operation, which might not be able to model the data as effectively in some cases."
      ],
      "metadata": {
        "id": "G0X16DDHsG8E"
      }
    }
  ],
  "metadata": {
    "accelerator": "GPU",
    "colab": {
      "provenance": [],
      "gpuType": "T4",
      "include_colab_link": true
    },
    "kernelspec": {
      "display_name": "pytorch",
      "language": "python",
      "name": "pytorch"
    },
    "language_info": {
      "codemirror_mode": {
        "name": "ipython",
        "version": 3
      },
      "file_extension": ".py",
      "mimetype": "text/x-python",
      "name": "python",
      "nbconvert_exporter": "python",
      "pygments_lexer": "ipython3",
      "version": "3.9.16"
    },
    "gpuClass": "standard"
  },
  "nbformat": 4,
  "nbformat_minor": 0
}